{
 "cells": [
  {
   "cell_type": "code",
   "execution_count": null,
   "metadata": {
    "colab": {
     "autoexec": {
      "startup": false,
      "wait_interval": 0
     }
    },
    "colab_type": "code",
    "id": "usxjb_oNpEjT"
   },
   "outputs": [],
   "source": [
    "%%bash\n",
    "wget https://raw.githubusercontent.com/peto184/37/master/test.csv\n",
    "wget https://raw.githubusercontent.com/peto184/37/master/train.csv"
   ]
  },
  {
   "cell_type": "code",
   "execution_count": 1,
   "metadata": {
    "colab": {
     "autoexec": {
      "startup": false,
      "wait_interval": 0
     }
    },
    "colab_type": "code",
    "id": "xcedSf9MnBwr"
   },
   "outputs": [],
   "source": [
    "import numpy as np\n",
    "import pandas as pd\n",
    "import matplotlib.pyplot as plt\n",
    "import seaborn as sb\n",
    "import matplotlib.ticker as ticker\n",
    "\n",
    "# To display all columns when printing\n",
    "pd.set_option('display.max_columns', None)\n"
   ]
  },
  {
   "cell_type": "markdown",
   "metadata": {
    "colab_type": "text",
    "id": "K7cEfN9SQ6qw"
   },
   "source": [
    "# Opis dát spolu s ich charakteristikami\n"
   ]
  },
  {
   "cell_type": "markdown",
   "metadata": {
    "colab_type": "text",
    "id": "T7pODRP2WRU4"
   },
   "source": [
    "* Trenovaci dataset obsahuje 2800 samples\n",
    "* Kazdy sample ma 43 features\n",
    "  * 33 su kvalitativneho typu\n",
    "  * 10 je kvantitativneho typu\n",
    "\n",
    "* Kvalitativne features(33):\n",
    "  * Nominalne(9): sex, referral_source, class, workclass, marital-status, relationship, race, native-country, occupation, \n",
    "  * Ordinalne(3): education, education-num, date_of_birth\n",
    "  * Binarne(20): query on thyroxine, on antithyroid medication, thyroid surgery, I131 treatment, tumor, hypopituitary, T3 measured, TT4 measured, FTI measured, TBG measured, T4U measured, TSH measured, goitre, lithium, on thyroxine, pregnant, psych, query hyperthyroid, query hypothyroid, sick\n",
    "\n",
    "* Kvantitativne features(10):\n",
    "  * Diskretne(3): age, education-num, hours-per-week\n",
    "  * Spojite(7): TSH, T3, TT4, T4U, fnlwgt, capital-gain, capital-loss\n",
    "  \n",
    "* Rozsahy a desktriptivne statistiky su rozpisane v grafoch a tabulkach nizsie."
   ]
  },
  {
   "cell_type": "markdown",
   "metadata": {
    "colab_type": "text",
    "id": "GfCion5TO1Rk"
   },
   "source": [
    "# Identifikácia problémov v dátach"
   ]
  },
  {
   "cell_type": "markdown",
   "metadata": {
    "colab_type": "text",
    "id": "dpmH_QjVKZJf"
   },
   "source": [
    "\n",
    "V datasete boli identifikovane nasledujuce problemy\n",
    "\n",
    "* Problemy s formatovanim\n",
    "\n",
    "```\n",
    "[] FTI je zrejme numericka hodnota, no obsahuje '?' teda je typu Object. Je potrebne prepisat vsetky \"?\" na NaN a zmenit typ stlpca na numericky\n",
    "[] capital_gain je vo formate float64 a capital_loss je vo formate int64\n",
    "[OK] medical_info: vo formate json, treba pridat tieto hodnoty do dalsich stlpcov\n",
    "[] date-of-birth: rozne formaty datumov\n",
    "```\n",
    "\n",
    "\n",
    "* Zbytocne stlpce\n",
    "\n",
    "```\n",
    "[] education a education-num vyjadruju rovnaku informaciu (education-num je zakodovane education, napriklad HighSchool = 9)\n",
    "```\n",
    "\n",
    "\n",
    "* Nevhodná štruktúra dát -> zvolit jednotny konzistetny zapis\n",
    "\n",
    "```\n",
    "[OK] referral_source: zmenit vsetko na lower case, niektore hodnoty su rovnake (Other a other, sVHD a SVHD)\n",
    "[OK] relationship: other_relative a other-relative, rovnake stlpce iny format\n",
    "[OK] on thyroxine : obsahuje nasledujuce hodnoty, treba opravit hodnoty [f,t,FALSE,F,T,TRUE] zmenit na [f,t]\n",
    "[OK] query hypothyroid : obsahuje nasledujuce hodnoty, treba opravit hodnoty [f, nan, ??, t] zmenit na [f,t,nan]\n",
    "[OK] class: treba premazat .|cislo na konci\n",
    "```\n",
    "\n",
    "* Chybajuce hodnoty\n",
    "-> chybajuce hondnoty by sa dali bud vydedukovat pomocou ostatnych atributov, s ktorymi by mohli mat suvis, alebo ich doplnit modusom\n",
    "\n",
    "```\n",
    "NaN hodnoty:\n",
    "[] age - 1\n",
    "[] date_of_birth - 1\n",
    "[] TSH - 284\n",
    "[] T3 - 585\n",
    "[] TT4 - 184\n",
    "[] T4U - 297\n",
    "[] capital-gain - 280\n",
    "\n",
    "\"?\" hodnoty:\n",
    "[] sex - 110\n",
    "[] FTI - 295 \n",
    "[] TBG - 2800 - zbytocny stlpec?\n",
    "\n",
    "\" ?\" hodnoty:\n",
    "[] workclass - 214 - dat vsetkych do private\n",
    "[] occupation - 215 - dat vsetkych do other-service\n",
    "[] native-country - 53 - dat vsetkych do USA alebo other?\n",
    "\n",
    "```\n",
    "\n",
    "* Vychylene a nezmyselne hodnoty\n",
    "-> taketo hodnoty budeme riesit nahradenim napriklad medianovou hodnotou\n",
    "\n",
    "```\n",
    "[] age: nezmyselna hodnota veku 455\n",
    "[] TSH: outliers\n",
    "[] T3 : outliers\n",
    "[] TT4: outliers\n",
    "[] T4U: outliers\n",
    "[] fnlwgt: outliers\n",
    "\n",
    "[] capital-gain : cely IQR je v rozmedzi <0,0>, iba zopar hodnot je vyplnenych \t\n",
    "[] capital-loss :  cely IQR je v rozmedzi <0,0>, iba zopar hodnot je vyplnenych \t\n",
    "[] hours-per-week : zopar extremnych hodnot ako pracovna doba 99 hodin tyzdenne a zopar outlierov\n",
    "\n",
    "```\n",
    "\n",
    "\n",
    "\n",
    "\n",
    "\n",
    "\n"
   ]
  },
  {
   "cell_type": "markdown",
   "metadata": {
    "colab_type": "text",
    "id": "YC3IrYiHWtre"
   },
   "source": [
    "# Nacitanie a vstupna analyza dat"
   ]
  },
  {
   "cell_type": "code",
   "execution_count": 2,
   "metadata": {
    "colab": {
     "autoexec": {
      "startup": false,
      "wait_interval": 0
     }
    },
    "colab_type": "code",
    "id": "M9oFF2E8Jsll"
   },
   "outputs": [],
   "source": [
    "data = pd.read_csv('train.csv', sep=',', index_col=0)"
   ]
  },
  {
   "cell_type": "code",
   "execution_count": 3,
   "metadata": {
    "colab": {
     "autoexec": {
      "startup": false,
      "wait_interval": 0
     }
    },
    "colab_type": "code",
    "id": "qIM7q13uR3aa"
   },
   "outputs": [],
   "source": [
    "# Zoznam stlpcov typu 'object'\n",
    "string_columns_list = data.dtypes[data.dtypes=='object'].index\n",
    "\n",
    "# Zoznam stlpcov s numerickymi hodnotami\n",
    "numerical_columns_list = data.dtypes[data.dtypes!='object'].index"
   ]
  },
  {
   "cell_type": "code",
   "execution_count": 4,
   "metadata": {
    "colab": {
     "autoexec": {
      "startup": false,
      "wait_interval": 0
     },
     "base_uri": "https://localhost:8080/",
     "height": 391,
     "output_extras": [
      {
       "item_id": 1
      }
     ]
    },
    "colab_type": "code",
    "executionInfo": {
     "elapsed": 559,
     "status": "ok",
     "timestamp": 1521892622009,
     "user": {
      "displayName": "Matej Mikuš",
      "photoUrl": "//lh4.googleusercontent.com/-FmP53EUfl4Q/AAAAAAAAAAI/AAAAAAAAAM8/e9HPRr9qrg0/s50-c-k-no/photo.jpg",
      "userId": "101534130404630998601"
     },
     "user_tz": -60
    },
    "id": "G_rqbqCkNfPh",
    "outputId": "5a19d3e1-0432-4f1a-8eda-621a3c294dbb"
   },
   "outputs": [
    {
     "data": {
      "text/html": [
       "<div>\n",
       "<style scoped>\n",
       "    .dataframe tbody tr th:only-of-type {\n",
       "        vertical-align: middle;\n",
       "    }\n",
       "\n",
       "    .dataframe tbody tr th {\n",
       "        vertical-align: top;\n",
       "    }\n",
       "\n",
       "    .dataframe thead th {\n",
       "        text-align: right;\n",
       "    }\n",
       "</style>\n",
       "<table border=\"1\" class=\"dataframe\">\n",
       "  <thead>\n",
       "    <tr style=\"text-align: right;\">\n",
       "      <th></th>\n",
       "      <th>age</th>\n",
       "      <th>sex</th>\n",
       "      <th>query on thyroxine</th>\n",
       "      <th>on antithyroid medication</th>\n",
       "      <th>thyroid surgery</th>\n",
       "      <th>I131 treatment</th>\n",
       "      <th>tumor</th>\n",
       "      <th>hypopituitary</th>\n",
       "      <th>TSH</th>\n",
       "      <th>T3 measured</th>\n",
       "      <th>T3</th>\n",
       "      <th>TT4 measured</th>\n",
       "      <th>TT4</th>\n",
       "      <th>T4U</th>\n",
       "      <th>FTI measured</th>\n",
       "      <th>FTI</th>\n",
       "      <th>TBG measured</th>\n",
       "      <th>TBG</th>\n",
       "      <th>referral source</th>\n",
       "      <th>class</th>\n",
       "      <th>workclass</th>\n",
       "      <th>fnlwgt</th>\n",
       "      <th>education</th>\n",
       "      <th>education-num</th>\n",
       "      <th>marital-status</th>\n",
       "      <th>occupation</th>\n",
       "      <th>relationship</th>\n",
       "      <th>race</th>\n",
       "      <th>capital-gain</th>\n",
       "      <th>capital-loss</th>\n",
       "      <th>hours-per-week</th>\n",
       "      <th>native-country</th>\n",
       "      <th>date_of_birth</th>\n",
       "      <th>medical_info</th>\n",
       "    </tr>\n",
       "  </thead>\n",
       "  <tbody>\n",
       "    <tr>\n",
       "      <th>0</th>\n",
       "      <td>62.0</td>\n",
       "      <td>?</td>\n",
       "      <td>f</td>\n",
       "      <td>f</td>\n",
       "      <td>f</td>\n",
       "      <td>f</td>\n",
       "      <td>f</td>\n",
       "      <td>f</td>\n",
       "      <td>1.30</td>\n",
       "      <td>t</td>\n",
       "      <td>1.5</td>\n",
       "      <td>t</td>\n",
       "      <td>96.0</td>\n",
       "      <td>0.88</td>\n",
       "      <td>t</td>\n",
       "      <td>109</td>\n",
       "      <td>f</td>\n",
       "      <td>?</td>\n",
       "      <td>SVHC</td>\n",
       "      <td>negative.|3514</td>\n",
       "      <td>Federal-gov</td>\n",
       "      <td>35576</td>\n",
       "      <td>Some-college</td>\n",
       "      <td>10</td>\n",
       "      <td>Married-civ-spouse</td>\n",
       "      <td>Craft-repair</td>\n",
       "      <td>Husband</td>\n",
       "      <td>White</td>\n",
       "      <td>0.0</td>\n",
       "      <td>0</td>\n",
       "      <td>40</td>\n",
       "      <td>United-States</td>\n",
       "      <td>1956-02-17 00:00:00</td>\n",
       "      <td>{'goitre':'f','TSH measured':'t','pregnant':'f...</td>\n",
       "    </tr>\n",
       "    <tr>\n",
       "      <th>1</th>\n",
       "      <td>47.0</td>\n",
       "      <td>F</td>\n",
       "      <td>f</td>\n",
       "      <td>f</td>\n",
       "      <td>f</td>\n",
       "      <td>f</td>\n",
       "      <td>f</td>\n",
       "      <td>f</td>\n",
       "      <td>2.00</td>\n",
       "      <td>f</td>\n",
       "      <td>NaN</td>\n",
       "      <td>t</td>\n",
       "      <td>114.0</td>\n",
       "      <td>0.89</td>\n",
       "      <td>t</td>\n",
       "      <td>129</td>\n",
       "      <td>f</td>\n",
       "      <td>?</td>\n",
       "      <td>other</td>\n",
       "      <td>negative.|3576</td>\n",
       "      <td>Private</td>\n",
       "      <td>315291</td>\n",
       "      <td>HS-grad</td>\n",
       "      <td>9</td>\n",
       "      <td>Never-married</td>\n",
       "      <td>Adm-clerical</td>\n",
       "      <td>Unmarried</td>\n",
       "      <td>Black</td>\n",
       "      <td>0.0</td>\n",
       "      <td>0</td>\n",
       "      <td>40</td>\n",
       "      <td>United-States</td>\n",
       "      <td>1970-12-15</td>\n",
       "      <td>{'goitre':'f','TSH measured':'t','pregnant':'f...</td>\n",
       "    </tr>\n",
       "    <tr>\n",
       "      <th>2</th>\n",
       "      <td>64.0</td>\n",
       "      <td>F</td>\n",
       "      <td>f</td>\n",
       "      <td>f</td>\n",
       "      <td>f</td>\n",
       "      <td>f</td>\n",
       "      <td>f</td>\n",
       "      <td>f</td>\n",
       "      <td>0.68</td>\n",
       "      <td>t</td>\n",
       "      <td>1.4</td>\n",
       "      <td>t</td>\n",
       "      <td>92.0</td>\n",
       "      <td>0.81</td>\n",
       "      <td>t</td>\n",
       "      <td>114</td>\n",
       "      <td>f</td>\n",
       "      <td>?</td>\n",
       "      <td>SVI</td>\n",
       "      <td>negative.|1243</td>\n",
       "      <td>Private</td>\n",
       "      <td>134004</td>\n",
       "      <td>Some-college</td>\n",
       "      <td>10</td>\n",
       "      <td>Married-civ-spouse</td>\n",
       "      <td>Exec-managerial</td>\n",
       "      <td>Wife</td>\n",
       "      <td>White</td>\n",
       "      <td>0.0</td>\n",
       "      <td>0</td>\n",
       "      <td>40</td>\n",
       "      <td>United-States</td>\n",
       "      <td>1953-10-05</td>\n",
       "      <td>{'goitre':'f','TSH measured':'t','pregnant':'f...</td>\n",
       "    </tr>\n",
       "    <tr>\n",
       "      <th>3</th>\n",
       "      <td>20.0</td>\n",
       "      <td>F</td>\n",
       "      <td>f</td>\n",
       "      <td>f</td>\n",
       "      <td>f</td>\n",
       "      <td>f</td>\n",
       "      <td>f</td>\n",
       "      <td>f</td>\n",
       "      <td>1.30</td>\n",
       "      <td>t</td>\n",
       "      <td>1.7</td>\n",
       "      <td>t</td>\n",
       "      <td>104.0</td>\n",
       "      <td>0.96</td>\n",
       "      <td>t</td>\n",
       "      <td>108</td>\n",
       "      <td>f</td>\n",
       "      <td>?</td>\n",
       "      <td>other</td>\n",
       "      <td>negative.|3468</td>\n",
       "      <td>Private</td>\n",
       "      <td>161674</td>\n",
       "      <td>HS-grad</td>\n",
       "      <td>9</td>\n",
       "      <td>Never-married</td>\n",
       "      <td>Machine-op-inspct</td>\n",
       "      <td>Unmarried</td>\n",
       "      <td>White</td>\n",
       "      <td>NaN</td>\n",
       "      <td>0</td>\n",
       "      <td>40</td>\n",
       "      <td>United-States</td>\n",
       "      <td>1998-01-31 00 00 00</td>\n",
       "      <td>{'goitre':'f','TSH measured':'t','pregnant':'f...</td>\n",
       "    </tr>\n",
       "    <tr>\n",
       "      <th>4</th>\n",
       "      <td>21.0</td>\n",
       "      <td>F</td>\n",
       "      <td>f</td>\n",
       "      <td>f</td>\n",
       "      <td>f</td>\n",
       "      <td>f</td>\n",
       "      <td>f</td>\n",
       "      <td>f</td>\n",
       "      <td>0.40</td>\n",
       "      <td>t</td>\n",
       "      <td>3.4</td>\n",
       "      <td>t</td>\n",
       "      <td>189.0</td>\n",
       "      <td>1.35</td>\n",
       "      <td>t</td>\n",
       "      <td>140</td>\n",
       "      <td>f</td>\n",
       "      <td>?</td>\n",
       "      <td>other</td>\n",
       "      <td>increased binding protein.|338</td>\n",
       "      <td>Private</td>\n",
       "      <td>187264</td>\n",
       "      <td>HS-grad</td>\n",
       "      <td>9</td>\n",
       "      <td>Married-civ-spouse</td>\n",
       "      <td>Exec-managerial</td>\n",
       "      <td>Wife</td>\n",
       "      <td>White</td>\n",
       "      <td>0.0</td>\n",
       "      <td>0</td>\n",
       "      <td>55</td>\n",
       "      <td>United-States</td>\n",
       "      <td>1996-10-09 00 00 00</td>\n",
       "      <td>{'goitre':'f','TSH measured':'t','pregnant':'f...</td>\n",
       "    </tr>\n",
       "  </tbody>\n",
       "</table>\n",
       "</div>"
      ],
      "text/plain": [
       "    age sex query on thyroxine on antithyroid medication thyroid surgery  \\\n",
       "0  62.0   ?                  f                         f               f   \n",
       "1  47.0   F                  f                         f               f   \n",
       "2  64.0   F                  f                         f               f   \n",
       "3  20.0   F                  f                         f               f   \n",
       "4  21.0   F                  f                         f               f   \n",
       "\n",
       "  I131 treatment tumor hypopituitary   TSH T3 measured   T3 TT4 measured  \\\n",
       "0              f     f             f  1.30           t  1.5            t   \n",
       "1              f     f             f  2.00           f  NaN            t   \n",
       "2              f     f             f  0.68           t  1.4            t   \n",
       "3              f     f             f  1.30           t  1.7            t   \n",
       "4              f     f             f  0.40           t  3.4            t   \n",
       "\n",
       "     TT4   T4U FTI measured  FTI TBG measured TBG referral source  \\\n",
       "0   96.0  0.88            t  109            f   ?            SVHC   \n",
       "1  114.0  0.89            t  129            f   ?           other   \n",
       "2   92.0  0.81            t  114            f   ?             SVI   \n",
       "3  104.0  0.96            t  108            f   ?           other   \n",
       "4  189.0  1.35            t  140            f   ?           other   \n",
       "\n",
       "                            class     workclass  fnlwgt      education  \\\n",
       "0                  negative.|3514   Federal-gov   35576   Some-college   \n",
       "1                  negative.|3576       Private  315291        HS-grad   \n",
       "2                  negative.|1243       Private  134004   Some-college   \n",
       "3                  negative.|3468       Private  161674        HS-grad   \n",
       "4  increased binding protein.|338       Private  187264        HS-grad   \n",
       "\n",
       "   education-num       marital-status          occupation relationship  \\\n",
       "0             10   Married-civ-spouse        Craft-repair      Husband   \n",
       "1              9        Never-married        Adm-clerical    Unmarried   \n",
       "2             10   Married-civ-spouse     Exec-managerial         Wife   \n",
       "3              9        Never-married   Machine-op-inspct    Unmarried   \n",
       "4              9   Married-civ-spouse     Exec-managerial         Wife   \n",
       "\n",
       "     race  capital-gain  capital-loss  hours-per-week  native-country  \\\n",
       "0   White           0.0             0              40   United-States   \n",
       "1   Black           0.0             0              40   United-States   \n",
       "2   White           0.0             0              40   United-States   \n",
       "3   White           NaN             0              40   United-States   \n",
       "4   White           0.0             0              55   United-States   \n",
       "\n",
       "         date_of_birth                                       medical_info  \n",
       "0  1956-02-17 00:00:00  {'goitre':'f','TSH measured':'t','pregnant':'f...  \n",
       "1           1970-12-15  {'goitre':'f','TSH measured':'t','pregnant':'f...  \n",
       "2           1953-10-05  {'goitre':'f','TSH measured':'t','pregnant':'f...  \n",
       "3  1998-01-31 00 00 00  {'goitre':'f','TSH measured':'t','pregnant':'f...  \n",
       "4  1996-10-09 00 00 00  {'goitre':'f','TSH measured':'t','pregnant':'f...  "
      ]
     },
     "execution_count": 4,
     "metadata": {},
     "output_type": "execute_result"
    }
   ],
   "source": [
    "data.head(5)"
   ]
  },
  {
   "cell_type": "code",
   "execution_count": 5,
   "metadata": {
    "colab": {
     "autoexec": {
      "startup": false,
      "wait_interval": 0
     },
     "base_uri": "https://localhost:8080/",
     "height": 325,
     "output_extras": [
      {
       "item_id": 1
      }
     ]
    },
    "colab_type": "code",
    "executionInfo": {
     "elapsed": 646,
     "status": "ok",
     "timestamp": 1521892623572,
     "user": {
      "displayName": "Matej Mikuš",
      "photoUrl": "//lh4.googleusercontent.com/-FmP53EUfl4Q/AAAAAAAAAAI/AAAAAAAAAM8/e9HPRr9qrg0/s50-c-k-no/photo.jpg",
      "userId": "101534130404630998601"
     },
     "user_tz": -60
    },
    "id": "D3o8UJkMnCJg",
    "outputId": "ac100533-d273-4f54-a8c8-aa161bc6fac9"
   },
   "outputs": [
    {
     "data": {
      "text/html": [
       "<div>\n",
       "<style scoped>\n",
       "    .dataframe tbody tr th:only-of-type {\n",
       "        vertical-align: middle;\n",
       "    }\n",
       "\n",
       "    .dataframe tbody tr th {\n",
       "        vertical-align: top;\n",
       "    }\n",
       "\n",
       "    .dataframe thead th {\n",
       "        text-align: right;\n",
       "    }\n",
       "</style>\n",
       "<table border=\"1\" class=\"dataframe\">\n",
       "  <thead>\n",
       "    <tr style=\"text-align: right;\">\n",
       "      <th></th>\n",
       "      <th>age</th>\n",
       "      <th>TSH</th>\n",
       "      <th>T3</th>\n",
       "      <th>TT4</th>\n",
       "      <th>T4U</th>\n",
       "      <th>fnlwgt</th>\n",
       "      <th>education-num</th>\n",
       "      <th>capital-gain</th>\n",
       "      <th>capital-loss</th>\n",
       "      <th>hours-per-week</th>\n",
       "    </tr>\n",
       "  </thead>\n",
       "  <tbody>\n",
       "    <tr>\n",
       "      <th>count</th>\n",
       "      <td>2799.00000</td>\n",
       "      <td>2516.000000</td>\n",
       "      <td>2215.000000</td>\n",
       "      <td>2616.000000</td>\n",
       "      <td>2503.000000</td>\n",
       "      <td>2.800000e+03</td>\n",
       "      <td>2800.000000</td>\n",
       "      <td>2520.000000</td>\n",
       "      <td>2800.000000</td>\n",
       "      <td>2800.000000</td>\n",
       "    </tr>\n",
       "    <tr>\n",
       "      <th>mean</th>\n",
       "      <td>51.84423</td>\n",
       "      <td>4.672150</td>\n",
       "      <td>2.024966</td>\n",
       "      <td>109.072401</td>\n",
       "      <td>0.997912</td>\n",
       "      <td>1.901450e+05</td>\n",
       "      <td>10.096071</td>\n",
       "      <td>614.490873</td>\n",
       "      <td>409.752500</td>\n",
       "      <td>38.568214</td>\n",
       "    </tr>\n",
       "    <tr>\n",
       "      <th>std</th>\n",
       "      <td>20.46116</td>\n",
       "      <td>21.449453</td>\n",
       "      <td>0.824600</td>\n",
       "      <td>35.392443</td>\n",
       "      <td>0.194390</td>\n",
       "      <td>1.063478e+05</td>\n",
       "      <td>2.401259</td>\n",
       "      <td>4507.371485</td>\n",
       "      <td>15255.566016</td>\n",
       "      <td>11.867239</td>\n",
       "    </tr>\n",
       "    <tr>\n",
       "      <th>min</th>\n",
       "      <td>1.00000</td>\n",
       "      <td>0.005000</td>\n",
       "      <td>0.050000</td>\n",
       "      <td>2.000000</td>\n",
       "      <td>0.310000</td>\n",
       "      <td>1.228500e+04</td>\n",
       "      <td>1.000000</td>\n",
       "      <td>0.000000</td>\n",
       "      <td>-244400.000000</td>\n",
       "      <td>1.000000</td>\n",
       "    </tr>\n",
       "    <tr>\n",
       "      <th>25%</th>\n",
       "      <td>36.00000</td>\n",
       "      <td>0.440000</td>\n",
       "      <td>1.600000</td>\n",
       "      <td>88.000000</td>\n",
       "      <td>0.880000</td>\n",
       "      <td>1.192702e+05</td>\n",
       "      <td>9.000000</td>\n",
       "      <td>0.000000</td>\n",
       "      <td>0.000000</td>\n",
       "      <td>35.000000</td>\n",
       "    </tr>\n",
       "    <tr>\n",
       "      <th>50%</th>\n",
       "      <td>54.00000</td>\n",
       "      <td>1.400000</td>\n",
       "      <td>2.000000</td>\n",
       "      <td>104.000000</td>\n",
       "      <td>0.980000</td>\n",
       "      <td>1.782920e+05</td>\n",
       "      <td>10.000000</td>\n",
       "      <td>0.000000</td>\n",
       "      <td>0.000000</td>\n",
       "      <td>40.000000</td>\n",
       "    </tr>\n",
       "    <tr>\n",
       "      <th>75%</th>\n",
       "      <td>67.00000</td>\n",
       "      <td>2.600000</td>\n",
       "      <td>2.400000</td>\n",
       "      <td>125.000000</td>\n",
       "      <td>1.080000</td>\n",
       "      <td>2.343645e+05</td>\n",
       "      <td>12.000000</td>\n",
       "      <td>0.000000</td>\n",
       "      <td>0.000000</td>\n",
       "      <td>40.000000</td>\n",
       "    </tr>\n",
       "    <tr>\n",
       "      <th>max</th>\n",
       "      <td>455.00000</td>\n",
       "      <td>478.000000</td>\n",
       "      <td>10.600000</td>\n",
       "      <td>430.000000</td>\n",
       "      <td>2.120000</td>\n",
       "      <td>1.366120e+06</td>\n",
       "      <td>16.000000</td>\n",
       "      <td>99999.000000</td>\n",
       "      <td>220600.000000</td>\n",
       "      <td>99.000000</td>\n",
       "    </tr>\n",
       "  </tbody>\n",
       "</table>\n",
       "</div>"
      ],
      "text/plain": [
       "              age          TSH           T3          TT4          T4U  \\\n",
       "count  2799.00000  2516.000000  2215.000000  2616.000000  2503.000000   \n",
       "mean     51.84423     4.672150     2.024966   109.072401     0.997912   \n",
       "std      20.46116    21.449453     0.824600    35.392443     0.194390   \n",
       "min       1.00000     0.005000     0.050000     2.000000     0.310000   \n",
       "25%      36.00000     0.440000     1.600000    88.000000     0.880000   \n",
       "50%      54.00000     1.400000     2.000000   104.000000     0.980000   \n",
       "75%      67.00000     2.600000     2.400000   125.000000     1.080000   \n",
       "max     455.00000   478.000000    10.600000   430.000000     2.120000   \n",
       "\n",
       "             fnlwgt  education-num  capital-gain   capital-loss  \\\n",
       "count  2.800000e+03    2800.000000   2520.000000    2800.000000   \n",
       "mean   1.901450e+05      10.096071    614.490873     409.752500   \n",
       "std    1.063478e+05       2.401259   4507.371485   15255.566016   \n",
       "min    1.228500e+04       1.000000      0.000000 -244400.000000   \n",
       "25%    1.192702e+05       9.000000      0.000000       0.000000   \n",
       "50%    1.782920e+05      10.000000      0.000000       0.000000   \n",
       "75%    2.343645e+05      12.000000      0.000000       0.000000   \n",
       "max    1.366120e+06      16.000000  99999.000000  220600.000000   \n",
       "\n",
       "       hours-per-week  \n",
       "count     2800.000000  \n",
       "mean        38.568214  \n",
       "std         11.867239  \n",
       "min          1.000000  \n",
       "25%         35.000000  \n",
       "50%         40.000000  \n",
       "75%         40.000000  \n",
       "max         99.000000  "
      ]
     },
     "execution_count": 5,
     "metadata": {},
     "output_type": "execute_result"
    }
   ],
   "source": [
    "data.describe()"
   ]
  },
  {
   "cell_type": "code",
   "execution_count": 6,
   "metadata": {
    "colab": {
     "autoexec": {
      "startup": false,
      "wait_interval": 0
     },
     "base_uri": "https://localhost:8080/",
     "height": 72,
     "output_extras": [
      {
       "item_id": 1
      }
     ]
    },
    "colab_type": "code",
    "executionInfo": {
     "elapsed": 568,
     "status": "ok",
     "timestamp": 1521892625220,
     "user": {
      "displayName": "Matej Mikuš",
      "photoUrl": "//lh4.googleusercontent.com/-FmP53EUfl4Q/AAAAAAAAAAI/AAAAAAAAAM8/e9HPRr9qrg0/s50-c-k-no/photo.jpg",
      "userId": "101534130404630998601"
     },
     "user_tz": -60
    },
    "id": "A2mcSreChSk7",
    "outputId": "ec21e75c-786b-4730-a176-43aaf5c3b950"
   },
   "outputs": [
    {
     "data": {
      "text/plain": [
       "Index(['age', 'TSH', 'T3', 'TT4', 'T4U', 'fnlwgt', 'education-num',\n",
       "       'capital-gain', 'capital-loss', 'hours-per-week'],\n",
       "      dtype='object')"
      ]
     },
     "execution_count": 6,
     "metadata": {},
     "output_type": "execute_result"
    }
   ],
   "source": [
    "# Zoznam numerickych atributov\n",
    "numerical_columns_list"
   ]
  },
  {
   "cell_type": "code",
   "execution_count": 7,
   "metadata": {
    "colab": {
     "autoexec": {
      "startup": false,
      "wait_interval": 0
     },
     "base_uri": "https://localhost:8080/",
     "height": 144,
     "output_extras": [
      {
       "item_id": 1
      }
     ]
    },
    "colab_type": "code",
    "executionInfo": {
     "elapsed": 527,
     "status": "ok",
     "timestamp": 1521892626466,
     "user": {
      "displayName": "Matej Mikuš",
      "photoUrl": "//lh4.googleusercontent.com/-FmP53EUfl4Q/AAAAAAAAAAI/AAAAAAAAAM8/e9HPRr9qrg0/s50-c-k-no/photo.jpg",
      "userId": "101534130404630998601"
     },
     "user_tz": -60
    },
    "id": "3-7lFN1WRELQ",
    "outputId": "acd1d924-0730-4ce0-e567-4800601112af"
   },
   "outputs": [
    {
     "data": {
      "text/plain": [
       "Index(['sex', 'query on thyroxine', 'on antithyroid medication',\n",
       "       'thyroid surgery', 'I131 treatment', 'tumor', 'hypopituitary',\n",
       "       'T3 measured', 'TT4 measured', 'FTI measured', 'FTI', 'TBG measured',\n",
       "       'TBG', 'referral source', 'class', 'workclass', 'education',\n",
       "       'marital-status', 'occupation', 'relationship', 'race',\n",
       "       'native-country', 'date_of_birth', 'medical_info'],\n",
       "      dtype='object')"
      ]
     },
     "execution_count": 7,
     "metadata": {},
     "output_type": "execute_result"
    }
   ],
   "source": [
    "# Zoznam kategorickych atributov\n",
    "string_columns_list"
   ]
  },
  {
   "cell_type": "markdown",
   "metadata": {
    "colab_type": "text",
    "id": "0jWcL1aLP0zk"
   },
   "source": [
    "* Age - 1 NaN hodnota\n",
    "* TSH - 284 NaN hodnot\n",
    "* T3 - 585 NaN hodnot\n",
    "* TT4 - 184 NaN hodnot\n",
    "* T4U - 297 NaN hodnot\n",
    "* capital-gain - 280 NaN hodnot\n",
    "* date_of_birth - 1 NaN hodnota\n"
   ]
  },
  {
   "cell_type": "code",
   "execution_count": 8,
   "metadata": {
    "colab": {
     "autoexec": {
      "startup": false,
      "wait_interval": 0
     },
     "base_uri": "https://localhost:8080/",
     "height": 144,
     "output_extras": [
      {
       "item_id": 1
      }
     ]
    },
    "colab_type": "code",
    "executionInfo": {
     "elapsed": 467,
     "status": "ok",
     "timestamp": 1521892627224,
     "user": {
      "displayName": "Matej Mikuš",
      "photoUrl": "//lh4.googleusercontent.com/-FmP53EUfl4Q/AAAAAAAAAAI/AAAAAAAAAM8/e9HPRr9qrg0/s50-c-k-no/photo.jpg",
      "userId": "101534130404630998601"
     },
     "user_tz": -60
    },
    "id": "VowZi4LanqKL",
    "outputId": "3584555c-1056-4863-8a81-0cf856c931d1"
   },
   "outputs": [
    {
     "name": "stdout",
     "output_type": "stream",
     "text": [
      "age - 1\n",
      "TSH - 284\n",
      "T3 - 585\n",
      "TT4 - 184\n",
      "T4U - 297\n",
      "capital-gain - 280\n",
      "date_of_birth - 1\n"
     ]
    }
   ],
   "source": [
    "# Vypisanie stlpcov s NaN hodnotami\n",
    "for s in data.columns:\n",
    "  num = data[s].isnull().sum()\n",
    "  if num != 0:\n",
    "    print(\"%s - %d\" % (s, num))\n",
    "        "
   ]
  },
  {
   "cell_type": "code",
   "execution_count": 9,
   "metadata": {
    "colab": {
     "autoexec": {
      "startup": false,
      "wait_interval": 0
     },
     "base_uri": "https://localhost:8080/",
     "height": 653,
     "output_extras": [
      {
       "item_id": 1
      }
     ]
    },
    "colab_type": "code",
    "executionInfo": {
     "elapsed": 476,
     "status": "ok",
     "timestamp": 1521892628530,
     "user": {
      "displayName": "Matej Mikuš",
      "photoUrl": "//lh4.googleusercontent.com/-FmP53EUfl4Q/AAAAAAAAAAI/AAAAAAAAAM8/e9HPRr9qrg0/s50-c-k-no/photo.jpg",
      "userId": "101534130404630998601"
     },
     "user_tz": -60
    },
    "id": "LHrENbj6UqZO",
    "outputId": "0673c23e-0b82-406d-9231-c68a9d250522"
   },
   "outputs": [
    {
     "data": {
      "text/plain": [
       "age                          float64\n",
       "sex                           object\n",
       "query on thyroxine            object\n",
       "on antithyroid medication     object\n",
       "thyroid surgery               object\n",
       "I131 treatment                object\n",
       "tumor                         object\n",
       "hypopituitary                 object\n",
       "TSH                          float64\n",
       "T3 measured                   object\n",
       "T3                           float64\n",
       "TT4 measured                  object\n",
       "TT4                          float64\n",
       "T4U                          float64\n",
       "FTI measured                  object\n",
       "FTI                           object\n",
       "TBG measured                  object\n",
       "TBG                           object\n",
       "referral source               object\n",
       "class                         object\n",
       "workclass                     object\n",
       "fnlwgt                         int64\n",
       "education                     object\n",
       "education-num                  int64\n",
       "marital-status                object\n",
       "occupation                    object\n",
       "relationship                  object\n",
       "race                          object\n",
       "capital-gain                 float64\n",
       "capital-loss                   int64\n",
       "hours-per-week                 int64\n",
       "native-country                object\n",
       "date_of_birth                 object\n",
       "medical_info                  object\n",
       "dtype: object"
      ]
     },
     "execution_count": 9,
     "metadata": {},
     "output_type": "execute_result"
    }
   ],
   "source": [
    "# Datove typy v tabulke\n",
    "data.dtypes"
   ]
  },
  {
   "cell_type": "code",
   "execution_count": 10,
   "metadata": {
    "colab": {
     "autoexec": {
      "startup": false,
      "wait_interval": 0
     },
     "base_uri": "https://localhost:8080/",
     "height": 72,
     "output_extras": [
      {
       "item_id": 1
      }
     ]
    },
    "colab_type": "code",
    "executionInfo": {
     "elapsed": 484,
     "status": "ok",
     "timestamp": 1521892629213,
     "user": {
      "displayName": "Matej Mikuš",
      "photoUrl": "//lh4.googleusercontent.com/-FmP53EUfl4Q/AAAAAAAAAAI/AAAAAAAAAM8/e9HPRr9qrg0/s50-c-k-no/photo.jpg",
      "userId": "101534130404630998601"
     },
     "user_tz": -60
    },
    "id": "CKbE2jAqRUPk",
    "outputId": "9fbd3c7d-c27e-402f-b73a-88f730a770b2"
   },
   "outputs": [
    {
     "name": "stdout",
     "output_type": "stream",
     "text": [
      "workclass - 214\n",
      "occupation - 215\n",
      "native-country - 53\n"
     ]
    }
   ],
   "source": [
    "# Vypisanie stlpcov s \"?\" hodnotami\n",
    "for s in string_columns_list:\n",
    "  num = len(data[data[s] == \" ?\"])\n",
    "  if num != 0:\n",
    "    print(\"%s - %d\" % (s, num))\n"
   ]
  },
  {
   "cell_type": "code",
   "execution_count": 11,
   "metadata": {
    "colab": {
     "autoexec": {
      "startup": false,
      "wait_interval": 0
     },
     "base_uri": "https://localhost:8080/",
     "height": 72,
     "output_extras": [
      {
       "item_id": 1
      }
     ]
    },
    "colab_type": "code",
    "executionInfo": {
     "elapsed": 455,
     "status": "ok",
     "timestamp": 1521892629859,
     "user": {
      "displayName": "Matej Mikuš",
      "photoUrl": "//lh4.googleusercontent.com/-FmP53EUfl4Q/AAAAAAAAAAI/AAAAAAAAAM8/e9HPRr9qrg0/s50-c-k-no/photo.jpg",
      "userId": "101534130404630998601"
     },
     "user_tz": -60
    },
    "id": "vHTQCTs6ViEK",
    "outputId": "0facc38c-897b-47c6-a86d-248aa2e40789"
   },
   "outputs": [
    {
     "name": "stdout",
     "output_type": "stream",
     "text": [
      "sex - 110\n",
      "FTI - 295\n",
      "TBG - 2800\n"
     ]
    }
   ],
   "source": [
    "# Vypisanie stlpcov s \"?\" hodnotami\n",
    "for s in string_columns_list:\n",
    "  num = len(data[data[s] == \"?\"])\n",
    "  if num != 0:\n",
    "    print(\"%s - %d\" % (s, num))\n"
   ]
  },
  {
   "cell_type": "markdown",
   "metadata": {
    "colab_type": "text",
    "id": "P09dseLoUf5o"
   },
   "source": [
    "# Oprava medical_info do tabulkovej podoby"
   ]
  },
  {
   "cell_type": "markdown",
   "metadata": {
    "colab_type": "text",
    "id": "tXbG0aetVQov"
   },
   "source": [
    "Priradenie hodnot z json sltpcu medical_info."
   ]
  },
  {
   "cell_type": "code",
   "execution_count": 12,
   "metadata": {
    "colab": {
     "autoexec": {
      "startup": false,
      "wait_interval": 0
     },
     "base_uri": "https://localhost:8080/",
     "height": 1924,
     "output_extras": [
      {
       "item_id": 1
      }
     ]
    },
    "colab_type": "code",
    "executionInfo": {
     "elapsed": 479,
     "status": "ok",
     "timestamp": 1521892630740,
     "user": {
      "displayName": "Matej Mikuš",
      "photoUrl": "//lh4.googleusercontent.com/-FmP53EUfl4Q/AAAAAAAAAAI/AAAAAAAAAM8/e9HPRr9qrg0/s50-c-k-no/photo.jpg",
      "userId": "101534130404630998601"
     },
     "user_tz": -60
    },
    "id": "FlEoSFuQUfgK",
    "outputId": "c1b4cfde-3e6e-42fa-e24f-4159d7af67f7"
   },
   "outputs": [
    {
     "data": {
      "text/html": [
       "<div>\n",
       "<style scoped>\n",
       "    .dataframe tbody tr th:only-of-type {\n",
       "        vertical-align: middle;\n",
       "    }\n",
       "\n",
       "    .dataframe tbody tr th {\n",
       "        vertical-align: top;\n",
       "    }\n",
       "\n",
       "    .dataframe thead th {\n",
       "        text-align: right;\n",
       "    }\n",
       "</style>\n",
       "<table border=\"1\" class=\"dataframe\">\n",
       "  <thead>\n",
       "    <tr style=\"text-align: right;\">\n",
       "      <th></th>\n",
       "      <th>T4U measured</th>\n",
       "      <th>TSH measured</th>\n",
       "      <th>goitre</th>\n",
       "      <th>lithium</th>\n",
       "      <th>on thyroxine</th>\n",
       "      <th>pregnant</th>\n",
       "      <th>psych</th>\n",
       "      <th>query hyperthyroid</th>\n",
       "      <th>query hypothyroid</th>\n",
       "      <th>sick</th>\n",
       "    </tr>\n",
       "  </thead>\n",
       "  <tbody>\n",
       "    <tr>\n",
       "      <th>0</th>\n",
       "      <td>t</td>\n",
       "      <td>t</td>\n",
       "      <td>f</td>\n",
       "      <td>f</td>\n",
       "      <td>f</td>\n",
       "      <td>f</td>\n",
       "      <td>f</td>\n",
       "      <td>f</td>\n",
       "      <td>f</td>\n",
       "      <td>f</td>\n",
       "    </tr>\n",
       "    <tr>\n",
       "      <th>1</th>\n",
       "      <td>t</td>\n",
       "      <td>t</td>\n",
       "      <td>f</td>\n",
       "      <td>f</td>\n",
       "      <td>f</td>\n",
       "      <td>f</td>\n",
       "      <td>f</td>\n",
       "      <td>f</td>\n",
       "      <td>f</td>\n",
       "      <td>f</td>\n",
       "    </tr>\n",
       "    <tr>\n",
       "      <th>2</th>\n",
       "      <td>t</td>\n",
       "      <td>t</td>\n",
       "      <td>f</td>\n",
       "      <td>f</td>\n",
       "      <td>f</td>\n",
       "      <td>f</td>\n",
       "      <td>f</td>\n",
       "      <td>f</td>\n",
       "      <td>t</td>\n",
       "      <td>f</td>\n",
       "    </tr>\n",
       "    <tr>\n",
       "      <th>3</th>\n",
       "      <td>t</td>\n",
       "      <td>t</td>\n",
       "      <td>f</td>\n",
       "      <td>f</td>\n",
       "      <td>f</td>\n",
       "      <td>f</td>\n",
       "      <td>f</td>\n",
       "      <td>f</td>\n",
       "      <td>f</td>\n",
       "      <td>f</td>\n",
       "    </tr>\n",
       "    <tr>\n",
       "      <th>4</th>\n",
       "      <td>t</td>\n",
       "      <td>t</td>\n",
       "      <td>f</td>\n",
       "      <td>f</td>\n",
       "      <td>f</td>\n",
       "      <td>f</td>\n",
       "      <td>f</td>\n",
       "      <td>t</td>\n",
       "      <td>f</td>\n",
       "      <td>f</td>\n",
       "    </tr>\n",
       "    <tr>\n",
       "      <th>5</th>\n",
       "      <td>t</td>\n",
       "      <td>t</td>\n",
       "      <td>f</td>\n",
       "      <td>f</td>\n",
       "      <td>f</td>\n",
       "      <td>f</td>\n",
       "      <td>f</td>\n",
       "      <td>f</td>\n",
       "      <td>f</td>\n",
       "      <td>f</td>\n",
       "    </tr>\n",
       "    <tr>\n",
       "      <th>6</th>\n",
       "      <td>t</td>\n",
       "      <td>t</td>\n",
       "      <td>f</td>\n",
       "      <td>f</td>\n",
       "      <td>f</td>\n",
       "      <td>f</td>\n",
       "      <td>f</td>\n",
       "      <td>f</td>\n",
       "      <td>f</td>\n",
       "      <td>f</td>\n",
       "    </tr>\n",
       "    <tr>\n",
       "      <th>7</th>\n",
       "      <td>t</td>\n",
       "      <td>t</td>\n",
       "      <td>f</td>\n",
       "      <td>f</td>\n",
       "      <td>t</td>\n",
       "      <td>f</td>\n",
       "      <td>f</td>\n",
       "      <td>f</td>\n",
       "      <td>f</td>\n",
       "      <td>f</td>\n",
       "    </tr>\n",
       "    <tr>\n",
       "      <th>8</th>\n",
       "      <td>t</td>\n",
       "      <td>t</td>\n",
       "      <td>f</td>\n",
       "      <td>f</td>\n",
       "      <td>f</td>\n",
       "      <td>f</td>\n",
       "      <td>f</td>\n",
       "      <td>f</td>\n",
       "      <td>f</td>\n",
       "      <td>f</td>\n",
       "    </tr>\n",
       "    <tr>\n",
       "      <th>9</th>\n",
       "      <td>f</td>\n",
       "      <td>t</td>\n",
       "      <td>f</td>\n",
       "      <td>f</td>\n",
       "      <td>f</td>\n",
       "      <td>f</td>\n",
       "      <td>f</td>\n",
       "      <td>f</td>\n",
       "      <td>f</td>\n",
       "      <td>f</td>\n",
       "    </tr>\n",
       "    <tr>\n",
       "      <th>10</th>\n",
       "      <td>f</td>\n",
       "      <td>f</td>\n",
       "      <td>f</td>\n",
       "      <td>f</td>\n",
       "      <td>f</td>\n",
       "      <td>f</td>\n",
       "      <td>f</td>\n",
       "      <td>f</td>\n",
       "      <td>f</td>\n",
       "      <td>f</td>\n",
       "    </tr>\n",
       "    <tr>\n",
       "      <th>11</th>\n",
       "      <td>t</td>\n",
       "      <td>t</td>\n",
       "      <td>f</td>\n",
       "      <td>f</td>\n",
       "      <td>f</td>\n",
       "      <td>f</td>\n",
       "      <td>f</td>\n",
       "      <td>f</td>\n",
       "      <td>f</td>\n",
       "      <td>f</td>\n",
       "    </tr>\n",
       "    <tr>\n",
       "      <th>12</th>\n",
       "      <td>t</td>\n",
       "      <td>t</td>\n",
       "      <td>f</td>\n",
       "      <td>f</td>\n",
       "      <td>F</td>\n",
       "      <td>f</td>\n",
       "      <td>f</td>\n",
       "      <td>f</td>\n",
       "      <td>f</td>\n",
       "      <td>f</td>\n",
       "    </tr>\n",
       "    <tr>\n",
       "      <th>13</th>\n",
       "      <td>t</td>\n",
       "      <td>t</td>\n",
       "      <td>f</td>\n",
       "      <td>f</td>\n",
       "      <td>f</td>\n",
       "      <td>f</td>\n",
       "      <td>f</td>\n",
       "      <td>f</td>\n",
       "      <td>f</td>\n",
       "      <td>f</td>\n",
       "    </tr>\n",
       "    <tr>\n",
       "      <th>14</th>\n",
       "      <td>t</td>\n",
       "      <td>f</td>\n",
       "      <td>f</td>\n",
       "      <td>f</td>\n",
       "      <td>FALSE</td>\n",
       "      <td>f</td>\n",
       "      <td>f</td>\n",
       "      <td>f</td>\n",
       "      <td>f</td>\n",
       "      <td>f</td>\n",
       "    </tr>\n",
       "    <tr>\n",
       "      <th>15</th>\n",
       "      <td>t</td>\n",
       "      <td>t</td>\n",
       "      <td>f</td>\n",
       "      <td>f</td>\n",
       "      <td>f</td>\n",
       "      <td>f</td>\n",
       "      <td>f</td>\n",
       "      <td>f</td>\n",
       "      <td>t</td>\n",
       "      <td>f</td>\n",
       "    </tr>\n",
       "    <tr>\n",
       "      <th>16</th>\n",
       "      <td>t</td>\n",
       "      <td>t</td>\n",
       "      <td>f</td>\n",
       "      <td>f</td>\n",
       "      <td>f</td>\n",
       "      <td>f</td>\n",
       "      <td>f</td>\n",
       "      <td>f</td>\n",
       "      <td>??</td>\n",
       "      <td>f</td>\n",
       "    </tr>\n",
       "    <tr>\n",
       "      <th>17</th>\n",
       "      <td>f</td>\n",
       "      <td>f</td>\n",
       "      <td>f</td>\n",
       "      <td>f</td>\n",
       "      <td>f</td>\n",
       "      <td>f</td>\n",
       "      <td>f</td>\n",
       "      <td>f</td>\n",
       "      <td>f</td>\n",
       "      <td>f</td>\n",
       "    </tr>\n",
       "    <tr>\n",
       "      <th>18</th>\n",
       "      <td>t</td>\n",
       "      <td>t</td>\n",
       "      <td>f</td>\n",
       "      <td>f</td>\n",
       "      <td>f</td>\n",
       "      <td>f</td>\n",
       "      <td>t</td>\n",
       "      <td>f</td>\n",
       "      <td>nan</td>\n",
       "      <td>f</td>\n",
       "    </tr>\n",
       "    <tr>\n",
       "      <th>19</th>\n",
       "      <td>t</td>\n",
       "      <td>t</td>\n",
       "      <td>f</td>\n",
       "      <td>f</td>\n",
       "      <td>F</td>\n",
       "      <td>f</td>\n",
       "      <td>f</td>\n",
       "      <td>f</td>\n",
       "      <td>f</td>\n",
       "      <td>f</td>\n",
       "    </tr>\n",
       "    <tr>\n",
       "      <th>20</th>\n",
       "      <td>f</td>\n",
       "      <td>f</td>\n",
       "      <td>f</td>\n",
       "      <td>f</td>\n",
       "      <td>f</td>\n",
       "      <td>f</td>\n",
       "      <td>f</td>\n",
       "      <td>f</td>\n",
       "      <td>f</td>\n",
       "      <td>f</td>\n",
       "    </tr>\n",
       "    <tr>\n",
       "      <th>21</th>\n",
       "      <td>t</td>\n",
       "      <td>t</td>\n",
       "      <td>f</td>\n",
       "      <td>f</td>\n",
       "      <td>f</td>\n",
       "      <td>f</td>\n",
       "      <td>f</td>\n",
       "      <td>f</td>\n",
       "      <td>f</td>\n",
       "      <td>f</td>\n",
       "    </tr>\n",
       "    <tr>\n",
       "      <th>22</th>\n",
       "      <td>t</td>\n",
       "      <td>t</td>\n",
       "      <td>f</td>\n",
       "      <td>f</td>\n",
       "      <td>f</td>\n",
       "      <td>f</td>\n",
       "      <td>f</td>\n",
       "      <td>f</td>\n",
       "      <td>f</td>\n",
       "      <td>f</td>\n",
       "    </tr>\n",
       "    <tr>\n",
       "      <th>23</th>\n",
       "      <td>t</td>\n",
       "      <td>t</td>\n",
       "      <td>f</td>\n",
       "      <td>f</td>\n",
       "      <td>f</td>\n",
       "      <td>f</td>\n",
       "      <td>f</td>\n",
       "      <td>f</td>\n",
       "      <td>f</td>\n",
       "      <td>f</td>\n",
       "    </tr>\n",
       "    <tr>\n",
       "      <th>24</th>\n",
       "      <td>t</td>\n",
       "      <td>t</td>\n",
       "      <td>f</td>\n",
       "      <td>f</td>\n",
       "      <td>f</td>\n",
       "      <td>f</td>\n",
       "      <td>f</td>\n",
       "      <td>f</td>\n",
       "      <td>f</td>\n",
       "      <td>f</td>\n",
       "    </tr>\n",
       "    <tr>\n",
       "      <th>25</th>\n",
       "      <td>t</td>\n",
       "      <td>t</td>\n",
       "      <td>f</td>\n",
       "      <td>f</td>\n",
       "      <td>FALSE</td>\n",
       "      <td>f</td>\n",
       "      <td>f</td>\n",
       "      <td>t</td>\n",
       "      <td>f</td>\n",
       "      <td>f</td>\n",
       "    </tr>\n",
       "    <tr>\n",
       "      <th>26</th>\n",
       "      <td>t</td>\n",
       "      <td>t</td>\n",
       "      <td>f</td>\n",
       "      <td>f</td>\n",
       "      <td>f</td>\n",
       "      <td>f</td>\n",
       "      <td>t</td>\n",
       "      <td>f</td>\n",
       "      <td>f</td>\n",
       "      <td>f</td>\n",
       "    </tr>\n",
       "    <tr>\n",
       "      <th>27</th>\n",
       "      <td>t</td>\n",
       "      <td>t</td>\n",
       "      <td>t</td>\n",
       "      <td>f</td>\n",
       "      <td>f</td>\n",
       "      <td>f</td>\n",
       "      <td>f</td>\n",
       "      <td>f</td>\n",
       "      <td>f</td>\n",
       "      <td>f</td>\n",
       "    </tr>\n",
       "    <tr>\n",
       "      <th>28</th>\n",
       "      <td>t</td>\n",
       "      <td>t</td>\n",
       "      <td>f</td>\n",
       "      <td>f</td>\n",
       "      <td>f</td>\n",
       "      <td>f</td>\n",
       "      <td>f</td>\n",
       "      <td>f</td>\n",
       "      <td>f</td>\n",
       "      <td>f</td>\n",
       "    </tr>\n",
       "    <tr>\n",
       "      <th>29</th>\n",
       "      <td>t</td>\n",
       "      <td>t</td>\n",
       "      <td>f</td>\n",
       "      <td>f</td>\n",
       "      <td>f</td>\n",
       "      <td>f</td>\n",
       "      <td>f</td>\n",
       "      <td>f</td>\n",
       "      <td>f</td>\n",
       "      <td>f</td>\n",
       "    </tr>\n",
       "    <tr>\n",
       "      <th>...</th>\n",
       "      <td>...</td>\n",
       "      <td>...</td>\n",
       "      <td>...</td>\n",
       "      <td>...</td>\n",
       "      <td>...</td>\n",
       "      <td>...</td>\n",
       "      <td>...</td>\n",
       "      <td>...</td>\n",
       "      <td>...</td>\n",
       "      <td>...</td>\n",
       "    </tr>\n",
       "    <tr>\n",
       "      <th>2770</th>\n",
       "      <td>t</td>\n",
       "      <td>t</td>\n",
       "      <td>f</td>\n",
       "      <td>f</td>\n",
       "      <td>f</td>\n",
       "      <td>f</td>\n",
       "      <td>f</td>\n",
       "      <td>f</td>\n",
       "      <td>t</td>\n",
       "      <td>f</td>\n",
       "    </tr>\n",
       "    <tr>\n",
       "      <th>2771</th>\n",
       "      <td>t</td>\n",
       "      <td>t</td>\n",
       "      <td>f</td>\n",
       "      <td>f</td>\n",
       "      <td>f</td>\n",
       "      <td>f</td>\n",
       "      <td>f</td>\n",
       "      <td>f</td>\n",
       "      <td>f</td>\n",
       "      <td>f</td>\n",
       "    </tr>\n",
       "    <tr>\n",
       "      <th>2772</th>\n",
       "      <td>t</td>\n",
       "      <td>t</td>\n",
       "      <td>f</td>\n",
       "      <td>f</td>\n",
       "      <td>f</td>\n",
       "      <td>f</td>\n",
       "      <td>f</td>\n",
       "      <td>f</td>\n",
       "      <td>f</td>\n",
       "      <td>f</td>\n",
       "    </tr>\n",
       "    <tr>\n",
       "      <th>2773</th>\n",
       "      <td>t</td>\n",
       "      <td>t</td>\n",
       "      <td>f</td>\n",
       "      <td>f</td>\n",
       "      <td>f</td>\n",
       "      <td>f</td>\n",
       "      <td>f</td>\n",
       "      <td>f</td>\n",
       "      <td>f</td>\n",
       "      <td>f</td>\n",
       "    </tr>\n",
       "    <tr>\n",
       "      <th>2774</th>\n",
       "      <td>t</td>\n",
       "      <td>t</td>\n",
       "      <td>f</td>\n",
       "      <td>f</td>\n",
       "      <td>TRUE</td>\n",
       "      <td>f</td>\n",
       "      <td>f</td>\n",
       "      <td>f</td>\n",
       "      <td>f</td>\n",
       "      <td>f</td>\n",
       "    </tr>\n",
       "    <tr>\n",
       "      <th>2775</th>\n",
       "      <td>t</td>\n",
       "      <td>t</td>\n",
       "      <td>f</td>\n",
       "      <td>f</td>\n",
       "      <td>f</td>\n",
       "      <td>f</td>\n",
       "      <td>f</td>\n",
       "      <td>f</td>\n",
       "      <td>f</td>\n",
       "      <td>f</td>\n",
       "    </tr>\n",
       "    <tr>\n",
       "      <th>2776</th>\n",
       "      <td>t</td>\n",
       "      <td>t</td>\n",
       "      <td>f</td>\n",
       "      <td>f</td>\n",
       "      <td>t</td>\n",
       "      <td>f</td>\n",
       "      <td>f</td>\n",
       "      <td>f</td>\n",
       "      <td>f</td>\n",
       "      <td>f</td>\n",
       "    </tr>\n",
       "    <tr>\n",
       "      <th>2777</th>\n",
       "      <td>t</td>\n",
       "      <td>t</td>\n",
       "      <td>f</td>\n",
       "      <td>f</td>\n",
       "      <td>f</td>\n",
       "      <td>f</td>\n",
       "      <td>f</td>\n",
       "      <td>f</td>\n",
       "      <td>f</td>\n",
       "      <td>t</td>\n",
       "    </tr>\n",
       "    <tr>\n",
       "      <th>2778</th>\n",
       "      <td>t</td>\n",
       "      <td>t</td>\n",
       "      <td>f</td>\n",
       "      <td>f</td>\n",
       "      <td>f</td>\n",
       "      <td>f</td>\n",
       "      <td>f</td>\n",
       "      <td>f</td>\n",
       "      <td>f</td>\n",
       "      <td>f</td>\n",
       "    </tr>\n",
       "    <tr>\n",
       "      <th>2779</th>\n",
       "      <td>t</td>\n",
       "      <td>t</td>\n",
       "      <td>f</td>\n",
       "      <td>f</td>\n",
       "      <td>f</td>\n",
       "      <td>f</td>\n",
       "      <td>f</td>\n",
       "      <td>f</td>\n",
       "      <td>f</td>\n",
       "      <td>f</td>\n",
       "    </tr>\n",
       "    <tr>\n",
       "      <th>2780</th>\n",
       "      <td>t</td>\n",
       "      <td>t</td>\n",
       "      <td>f</td>\n",
       "      <td>f</td>\n",
       "      <td>F</td>\n",
       "      <td>f</td>\n",
       "      <td>f</td>\n",
       "      <td>f</td>\n",
       "      <td>f</td>\n",
       "      <td>f</td>\n",
       "    </tr>\n",
       "    <tr>\n",
       "      <th>2781</th>\n",
       "      <td>t</td>\n",
       "      <td>t</td>\n",
       "      <td>f</td>\n",
       "      <td>f</td>\n",
       "      <td>f</td>\n",
       "      <td>f</td>\n",
       "      <td>f</td>\n",
       "      <td>f</td>\n",
       "      <td>f</td>\n",
       "      <td>f</td>\n",
       "    </tr>\n",
       "    <tr>\n",
       "      <th>2782</th>\n",
       "      <td>t</td>\n",
       "      <td>t</td>\n",
       "      <td>f</td>\n",
       "      <td>f</td>\n",
       "      <td>t</td>\n",
       "      <td>f</td>\n",
       "      <td>f</td>\n",
       "      <td>t</td>\n",
       "      <td>f</td>\n",
       "      <td>f</td>\n",
       "    </tr>\n",
       "    <tr>\n",
       "      <th>2783</th>\n",
       "      <td>t</td>\n",
       "      <td>t</td>\n",
       "      <td>f</td>\n",
       "      <td>f</td>\n",
       "      <td>f</td>\n",
       "      <td>f</td>\n",
       "      <td>f</td>\n",
       "      <td>f</td>\n",
       "      <td>f</td>\n",
       "      <td>f</td>\n",
       "    </tr>\n",
       "    <tr>\n",
       "      <th>2784</th>\n",
       "      <td>t</td>\n",
       "      <td>t</td>\n",
       "      <td>f</td>\n",
       "      <td>f</td>\n",
       "      <td>f</td>\n",
       "      <td>f</td>\n",
       "      <td>f</td>\n",
       "      <td>f</td>\n",
       "      <td>f</td>\n",
       "      <td>f</td>\n",
       "    </tr>\n",
       "    <tr>\n",
       "      <th>2785</th>\n",
       "      <td>f</td>\n",
       "      <td>f</td>\n",
       "      <td>f</td>\n",
       "      <td>f</td>\n",
       "      <td>f</td>\n",
       "      <td>f</td>\n",
       "      <td>f</td>\n",
       "      <td>f</td>\n",
       "      <td>f</td>\n",
       "      <td>f</td>\n",
       "    </tr>\n",
       "    <tr>\n",
       "      <th>2786</th>\n",
       "      <td>t</td>\n",
       "      <td>f</td>\n",
       "      <td>f</td>\n",
       "      <td>f</td>\n",
       "      <td>f</td>\n",
       "      <td>f</td>\n",
       "      <td>f</td>\n",
       "      <td>f</td>\n",
       "      <td>f</td>\n",
       "      <td>f</td>\n",
       "    </tr>\n",
       "    <tr>\n",
       "      <th>2787</th>\n",
       "      <td>t</td>\n",
       "      <td>t</td>\n",
       "      <td>f</td>\n",
       "      <td>t</td>\n",
       "      <td>f</td>\n",
       "      <td>f</td>\n",
       "      <td>f</td>\n",
       "      <td>f</td>\n",
       "      <td>f</td>\n",
       "      <td>f</td>\n",
       "    </tr>\n",
       "    <tr>\n",
       "      <th>2788</th>\n",
       "      <td>t</td>\n",
       "      <td>t</td>\n",
       "      <td>f</td>\n",
       "      <td>f</td>\n",
       "      <td>f</td>\n",
       "      <td>f</td>\n",
       "      <td>f</td>\n",
       "      <td>f</td>\n",
       "      <td>f</td>\n",
       "      <td>f</td>\n",
       "    </tr>\n",
       "    <tr>\n",
       "      <th>2789</th>\n",
       "      <td>t</td>\n",
       "      <td>t</td>\n",
       "      <td>f</td>\n",
       "      <td>f</td>\n",
       "      <td>f</td>\n",
       "      <td>f</td>\n",
       "      <td>f</td>\n",
       "      <td>f</td>\n",
       "      <td>f</td>\n",
       "      <td>f</td>\n",
       "    </tr>\n",
       "    <tr>\n",
       "      <th>2790</th>\n",
       "      <td>t</td>\n",
       "      <td>t</td>\n",
       "      <td>f</td>\n",
       "      <td>f</td>\n",
       "      <td>FALSE</td>\n",
       "      <td>f</td>\n",
       "      <td>f</td>\n",
       "      <td>f</td>\n",
       "      <td>??</td>\n",
       "      <td>f</td>\n",
       "    </tr>\n",
       "    <tr>\n",
       "      <th>2791</th>\n",
       "      <td>t</td>\n",
       "      <td>t</td>\n",
       "      <td>f</td>\n",
       "      <td>f</td>\n",
       "      <td>f</td>\n",
       "      <td>f</td>\n",
       "      <td>t</td>\n",
       "      <td>f</td>\n",
       "      <td>f</td>\n",
       "      <td>f</td>\n",
       "    </tr>\n",
       "    <tr>\n",
       "      <th>2792</th>\n",
       "      <td>t</td>\n",
       "      <td>t</td>\n",
       "      <td>f</td>\n",
       "      <td>f</td>\n",
       "      <td>f</td>\n",
       "      <td>f</td>\n",
       "      <td>f</td>\n",
       "      <td>f</td>\n",
       "      <td>f</td>\n",
       "      <td>f</td>\n",
       "    </tr>\n",
       "    <tr>\n",
       "      <th>2793</th>\n",
       "      <td>t</td>\n",
       "      <td>t</td>\n",
       "      <td>f</td>\n",
       "      <td>f</td>\n",
       "      <td>f</td>\n",
       "      <td>f</td>\n",
       "      <td>f</td>\n",
       "      <td>f</td>\n",
       "      <td>f</td>\n",
       "      <td>f</td>\n",
       "    </tr>\n",
       "    <tr>\n",
       "      <th>2794</th>\n",
       "      <td>t</td>\n",
       "      <td>t</td>\n",
       "      <td>f</td>\n",
       "      <td>f</td>\n",
       "      <td>f</td>\n",
       "      <td>f</td>\n",
       "      <td>f</td>\n",
       "      <td>f</td>\n",
       "      <td>f</td>\n",
       "      <td>f</td>\n",
       "    </tr>\n",
       "    <tr>\n",
       "      <th>2795</th>\n",
       "      <td>t</td>\n",
       "      <td>t</td>\n",
       "      <td>f</td>\n",
       "      <td>f</td>\n",
       "      <td>f</td>\n",
       "      <td>f</td>\n",
       "      <td>f</td>\n",
       "      <td>f</td>\n",
       "      <td>f</td>\n",
       "      <td>f</td>\n",
       "    </tr>\n",
       "    <tr>\n",
       "      <th>2796</th>\n",
       "      <td>t</td>\n",
       "      <td>t</td>\n",
       "      <td>f</td>\n",
       "      <td>f</td>\n",
       "      <td>f</td>\n",
       "      <td>f</td>\n",
       "      <td>t</td>\n",
       "      <td>f</td>\n",
       "      <td>f</td>\n",
       "      <td>f</td>\n",
       "    </tr>\n",
       "    <tr>\n",
       "      <th>2797</th>\n",
       "      <td>t</td>\n",
       "      <td>t</td>\n",
       "      <td>f</td>\n",
       "      <td>f</td>\n",
       "      <td>f</td>\n",
       "      <td>f</td>\n",
       "      <td>f</td>\n",
       "      <td>f</td>\n",
       "      <td>t</td>\n",
       "      <td>f</td>\n",
       "    </tr>\n",
       "    <tr>\n",
       "      <th>2798</th>\n",
       "      <td>t</td>\n",
       "      <td>t</td>\n",
       "      <td>f</td>\n",
       "      <td>f</td>\n",
       "      <td>f</td>\n",
       "      <td>f</td>\n",
       "      <td>f</td>\n",
       "      <td>f</td>\n",
       "      <td>f</td>\n",
       "      <td>f</td>\n",
       "    </tr>\n",
       "    <tr>\n",
       "      <th>2799</th>\n",
       "      <td>f</td>\n",
       "      <td>f</td>\n",
       "      <td>f</td>\n",
       "      <td>f</td>\n",
       "      <td>f</td>\n",
       "      <td>f</td>\n",
       "      <td>f</td>\n",
       "      <td>f</td>\n",
       "      <td>f</td>\n",
       "      <td>f</td>\n",
       "    </tr>\n",
       "  </tbody>\n",
       "</table>\n",
       "<p>2800 rows × 10 columns</p>\n",
       "</div>"
      ],
      "text/plain": [
       "     T4U measured TSH measured goitre lithium on thyroxine pregnant psych  \\\n",
       "0               t            t      f       f            f        f     f   \n",
       "1               t            t      f       f            f        f     f   \n",
       "2               t            t      f       f            f        f     f   \n",
       "3               t            t      f       f            f        f     f   \n",
       "4               t            t      f       f            f        f     f   \n",
       "5               t            t      f       f            f        f     f   \n",
       "6               t            t      f       f            f        f     f   \n",
       "7               t            t      f       f            t        f     f   \n",
       "8               t            t      f       f            f        f     f   \n",
       "9               f            t      f       f            f        f     f   \n",
       "10              f            f      f       f            f        f     f   \n",
       "11              t            t      f       f            f        f     f   \n",
       "12              t            t      f       f            F        f     f   \n",
       "13              t            t      f       f            f        f     f   \n",
       "14              t            f      f       f        FALSE        f     f   \n",
       "15              t            t      f       f            f        f     f   \n",
       "16              t            t      f       f            f        f     f   \n",
       "17              f            f      f       f            f        f     f   \n",
       "18              t            t      f       f            f        f     t   \n",
       "19              t            t      f       f            F        f     f   \n",
       "20              f            f      f       f            f        f     f   \n",
       "21              t            t      f       f            f        f     f   \n",
       "22              t            t      f       f            f        f     f   \n",
       "23              t            t      f       f            f        f     f   \n",
       "24              t            t      f       f            f        f     f   \n",
       "25              t            t      f       f        FALSE        f     f   \n",
       "26              t            t      f       f            f        f     t   \n",
       "27              t            t      t       f            f        f     f   \n",
       "28              t            t      f       f            f        f     f   \n",
       "29              t            t      f       f            f        f     f   \n",
       "...           ...          ...    ...     ...          ...      ...   ...   \n",
       "2770            t            t      f       f            f        f     f   \n",
       "2771            t            t      f       f            f        f     f   \n",
       "2772            t            t      f       f            f        f     f   \n",
       "2773            t            t      f       f            f        f     f   \n",
       "2774            t            t      f       f         TRUE        f     f   \n",
       "2775            t            t      f       f            f        f     f   \n",
       "2776            t            t      f       f            t        f     f   \n",
       "2777            t            t      f       f            f        f     f   \n",
       "2778            t            t      f       f            f        f     f   \n",
       "2779            t            t      f       f            f        f     f   \n",
       "2780            t            t      f       f            F        f     f   \n",
       "2781            t            t      f       f            f        f     f   \n",
       "2782            t            t      f       f            t        f     f   \n",
       "2783            t            t      f       f            f        f     f   \n",
       "2784            t            t      f       f            f        f     f   \n",
       "2785            f            f      f       f            f        f     f   \n",
       "2786            t            f      f       f            f        f     f   \n",
       "2787            t            t      f       t            f        f     f   \n",
       "2788            t            t      f       f            f        f     f   \n",
       "2789            t            t      f       f            f        f     f   \n",
       "2790            t            t      f       f        FALSE        f     f   \n",
       "2791            t            t      f       f            f        f     t   \n",
       "2792            t            t      f       f            f        f     f   \n",
       "2793            t            t      f       f            f        f     f   \n",
       "2794            t            t      f       f            f        f     f   \n",
       "2795            t            t      f       f            f        f     f   \n",
       "2796            t            t      f       f            f        f     t   \n",
       "2797            t            t      f       f            f        f     f   \n",
       "2798            t            t      f       f            f        f     f   \n",
       "2799            f            f      f       f            f        f     f   \n",
       "\n",
       "     query hyperthyroid query hypothyroid sick  \n",
       "0                     f                 f    f  \n",
       "1                     f                 f    f  \n",
       "2                     f                 t    f  \n",
       "3                     f                 f    f  \n",
       "4                     t                 f    f  \n",
       "5                     f                 f    f  \n",
       "6                     f                 f    f  \n",
       "7                     f                 f    f  \n",
       "8                     f                 f    f  \n",
       "9                     f                 f    f  \n",
       "10                    f                 f    f  \n",
       "11                    f                 f    f  \n",
       "12                    f                 f    f  \n",
       "13                    f                 f    f  \n",
       "14                    f                 f    f  \n",
       "15                    f                 t    f  \n",
       "16                    f                ??    f  \n",
       "17                    f                 f    f  \n",
       "18                    f               nan    f  \n",
       "19                    f                 f    f  \n",
       "20                    f                 f    f  \n",
       "21                    f                 f    f  \n",
       "22                    f                 f    f  \n",
       "23                    f                 f    f  \n",
       "24                    f                 f    f  \n",
       "25                    t                 f    f  \n",
       "26                    f                 f    f  \n",
       "27                    f                 f    f  \n",
       "28                    f                 f    f  \n",
       "29                    f                 f    f  \n",
       "...                 ...               ...  ...  \n",
       "2770                  f                 t    f  \n",
       "2771                  f                 f    f  \n",
       "2772                  f                 f    f  \n",
       "2773                  f                 f    f  \n",
       "2774                  f                 f    f  \n",
       "2775                  f                 f    f  \n",
       "2776                  f                 f    f  \n",
       "2777                  f                 f    t  \n",
       "2778                  f                 f    f  \n",
       "2779                  f                 f    f  \n",
       "2780                  f                 f    f  \n",
       "2781                  f                 f    f  \n",
       "2782                  t                 f    f  \n",
       "2783                  f                 f    f  \n",
       "2784                  f                 f    f  \n",
       "2785                  f                 f    f  \n",
       "2786                  f                 f    f  \n",
       "2787                  f                 f    f  \n",
       "2788                  f                 f    f  \n",
       "2789                  f                 f    f  \n",
       "2790                  f                ??    f  \n",
       "2791                  f                 f    f  \n",
       "2792                  f                 f    f  \n",
       "2793                  f                 f    f  \n",
       "2794                  f                 f    f  \n",
       "2795                  f                 f    f  \n",
       "2796                  f                 f    f  \n",
       "2797                  f                 t    f  \n",
       "2798                  f                 f    f  \n",
       "2799                  f                 f    f  \n",
       "\n",
       "[2800 rows x 10 columns]"
      ]
     },
     "execution_count": 12,
     "metadata": {},
     "output_type": "execute_result"
    }
   ],
   "source": [
    "from pandas.io.json import json_normalize\n",
    "import json\n",
    "\n",
    "jsons = pd.DataFrame(data['medical_info'])\n",
    "jsons['medical_info'] = jsons['medical_info'].apply(lambda x : x.replace('\\'', '\\\"'))\n",
    "jsons = jsons['medical_info'].apply(json.loads).values.tolist() \n",
    "medical_info = pd.DataFrame(jsons)\n",
    "medical_info"
   ]
  },
  {
   "cell_type": "code",
   "execution_count": 13,
   "metadata": {
    "colab": {
     "autoexec": {
      "startup": false,
      "wait_interval": 0
     }
    },
    "colab_type": "code",
    "id": "iRgPCMdKVOMA"
   },
   "outputs": [],
   "source": [
    "data = pd.concat([data, pd.DataFrame(medical_info)], axis=1)\n",
    "data = data.drop(columns=['medical_info'])"
   ]
  },
  {
   "cell_type": "markdown",
   "metadata": {
    "colab_type": "text",
    "id": "4hENLuNhaPdc"
   },
   "source": [
    "# Oprava formatovania"
   ]
  },
  {
   "cell_type": "code",
   "execution_count": 14,
   "metadata": {
    "colab": {
     "autoexec": {
      "startup": false,
      "wait_interval": 0
     }
    },
    "colab_type": "code",
    "id": "nciIKgB8aabM"
   },
   "outputs": [],
   "source": [
    "# Zmena velkych pismenok na male, aby sa opravilo formatovanie\n",
    "data['referral source'] = data['referral source'].apply(lambda x : x.lower())"
   ]
  },
  {
   "cell_type": "code",
   "execution_count": 15,
   "metadata": {
    "colab": {
     "autoexec": {
      "startup": false,
      "wait_interval": 0
     }
    },
    "colab_type": "code",
    "id": "XgUAPkgocJnq"
   },
   "outputs": [],
   "source": [
    "# Odseknutie .| zo stlpca class\n",
    "data['class'] = data['class'].apply(lambda x : x.split('.')[0])"
   ]
  },
  {
   "cell_type": "code",
   "execution_count": 16,
   "metadata": {
    "colab": {
     "autoexec": {
      "startup": false,
      "wait_interval": 0
     }
    },
    "colab_type": "code",
    "id": "mljVeDQHlp5r"
   },
   "outputs": [],
   "source": [
    "# Zmena _ na - pri relationship\n",
    "data['relationship'] = data['relationship'].apply(lambda x : x.replace('-','_'))"
   ]
  },
  {
   "cell_type": "code",
   "execution_count": 17,
   "metadata": {
    "colab": {
     "autoexec": {
      "startup": false,
      "wait_interval": 0
     }
    },
    "colab_type": "code",
    "id": "WmrBSuoemjD8"
   },
   "outputs": [],
   "source": [
    "# Oprava nekonzistentnych oznaceni hodnot\n",
    "dict = {'FALSE':'f', 'F':'f', 'T':'t', 'TRUE':'t', 'f':'f', 't':'t', 'nan':'?', '??':'?'}\n",
    "data['on thyroxine'] = data['on thyroxine'].apply(lambda x : dict[x])\n",
    "data['query hypothyroid'] = data['query hypothyroid'].apply(lambda x : dict[x])"
   ]
  },
  {
   "cell_type": "code",
   "execution_count": 18,
   "metadata": {
    "colab": {
     "autoexec": {
      "startup": false,
      "wait_interval": 0
     }
    },
    "colab_type": "code",
    "id": "joVtYhszf3aY"
   },
   "outputs": [],
   "source": [
    "# Zoznam stlpcov typu 'object'\n",
    "string_columns_list = data.dtypes[data.dtypes=='object'].index\n",
    "\n",
    "# Zoznam stlpcov s numerickymi hodnotami\n",
    "numerical_columns_list = data.dtypes[data.dtypes!='object'].index"
   ]
  },
  {
   "cell_type": "markdown",
   "metadata": {
    "colab_type": "text",
    "id": "cgqnwVtsk4yh"
   },
   "source": [
    "# Age, date_of_birth\n",
    "* je mozne zistit vek z oboch atributov\n",
    "* age obsahuje outlier 455, bude nahradene mean hodnotou\n",
    "* date_of_birth - nekonzistnetne formaty bude potrebne ich zjednotit"
   ]
  },
  {
   "cell_type": "code",
   "execution_count": 19,
   "metadata": {
    "colab": {
     "autoexec": {
      "startup": false,
      "wait_interval": 0
     },
     "base_uri": "https://localhost:8080/",
     "height": 181,
     "output_extras": [
      {
       "item_id": 1
      }
     ]
    },
    "colab_type": "code",
    "executionInfo": {
     "elapsed": 454,
     "status": "ok",
     "timestamp": 1521892635192,
     "user": {
      "displayName": "Matej Mikuš",
      "photoUrl": "//lh4.googleusercontent.com/-FmP53EUfl4Q/AAAAAAAAAAI/AAAAAAAAAM8/e9HPRr9qrg0/s50-c-k-no/photo.jpg",
      "userId": "101534130404630998601"
     },
     "user_tz": -60
    },
    "id": "_ZtcU6Otk4Nx",
    "outputId": "c6e93c00-8343-425b-d242-2fc1f1ca6af6"
   },
   "outputs": [
    {
     "data": {
      "text/plain": [
       "count    2799.00000\n",
       "mean       51.84423\n",
       "std        20.46116\n",
       "min         1.00000\n",
       "25%        36.00000\n",
       "50%        54.00000\n",
       "75%        67.00000\n",
       "max       455.00000\n",
       "Name: age, dtype: float64"
      ]
     },
     "execution_count": 19,
     "metadata": {},
     "output_type": "execute_result"
    }
   ],
   "source": [
    "data['age'].describe()"
   ]
  },
  {
   "cell_type": "code",
   "execution_count": 20,
   "metadata": {
    "colab": {
     "autoexec": {
      "startup": false,
      "wait_interval": 0
     },
     "base_uri": "https://localhost:8080/",
     "height": 1170,
     "output_extras": [
      {
       "item_id": 1
      },
      {
       "item_id": 2
      },
      {
       "item_id": 3
      },
      {
       "item_id": 4
      },
      {
       "item_id": 5
      },
      {
       "item_id": 6
      }
     ]
    },
    "colab_type": "code",
    "executionInfo": {
     "elapsed": 1050,
     "status": "ok",
     "timestamp": 1521892636427,
     "user": {
      "displayName": "Matej Mikuš",
      "photoUrl": "//lh4.googleusercontent.com/-FmP53EUfl4Q/AAAAAAAAAAI/AAAAAAAAAM8/e9HPRr9qrg0/s50-c-k-no/photo.jpg",
      "userId": "101534130404630998601"
     },
     "user_tz": -60
    },
    "id": "1Fv0QVDYlRbt",
    "outputId": "bc540f86-ab81-4c61-c84d-c32cb6c52aa8"
   },
   "outputs": [
    {
     "name": "stdout",
     "output_type": "stream",
     "text": [
      "Number of null elements in age:  1\n",
      "Number of non null elements in age:  2799\n"
     ]
    },
    {
     "data": {
      "text/plain": [
       "<matplotlib.axes._subplots.AxesSubplot at 0x2060b531358>"
      ]
     },
     "execution_count": 20,
     "metadata": {},
     "output_type": "execute_result"
    },
    {
     "data": {
      "image/png": "[encoded data removed]",
      "text/plain": [
       "<Figure size 432x288 with 1 Axes>"
      ]
     },
     "metadata": {},
     "output_type": "display_data"
    },
    {
     "data": {
      "image/png": "[encoded data removed]",
      "text/plain": [
       "<Figure size 432x288 with 1 Axes>"
      ]
     },
     "metadata": {},
     "output_type": "display_data"
    },
    {
     "data": {
      "image/png": "[encoded data removed]",
      "text/plain": [
       "<Figure size 432x288 with 1 Axes>"
      ]
     },
     "metadata": {},
     "output_type": "display_data"
    }
   ],
   "source": [
    "age = pd.Series(data['age'])\n",
    "ageNullCount = age.isnull().sum()\n",
    "ageNotNullCount = age.notnull().sum()\n",
    "print(\"Number of null elements in age: \", ageNullCount)\n",
    "print(\"Number of non null elements in age: \", ageNotNullCount)\n",
    "\n",
    "age = age.dropna()\n",
    "\n",
    "ax = plt.axes()\n",
    "ax.xaxis.set_major_locator(ticker.MultipleLocator(30))\n",
    "\n",
    "# histogram s outlierom\n",
    "age.hist(bins = 50)\n",
    "\n",
    "df = pd.DataFrame(age)\n",
    "sortedAges = df.sort_values(by='age')\n",
    "sortedAges.drop(sortedAges.tail(1).index,inplace=True)\n",
    "\n",
    "# histogram bet outliera\n",
    "sortedAges.hist(bins = 50)\n",
    "\n",
    "sortedAges.plot(kind='KDE')\n",
    "age.plot(kind='box')\n",
    "sb.boxplot(sortedAges, sym='k.')"
   ]
  },
  {
   "cell_type": "code",
   "execution_count": null,
   "metadata": {
    "colab": {
     "autoexec": {
      "startup": false,
      "wait_interval": 0
     }
    },
    "colab_type": "code",
    "id": "zisp86N_lXKv"
   },
   "outputs": [],
   "source": []
  },
  {
   "cell_type": "markdown",
   "metadata": {
    "colab_type": "text",
    "id": "A3cA41a2prQM"
   },
   "source": [
    "# Sex\n",
    "* chybajuce hodnoty sa budu data v niektorych pripadoch doplnit pomocou atributu __relationship__, ktory obsahuje hodnoty husband a wife, alebo z atributu __pregnant__, pokial by islo o zenske pohlavie"
   ]
  },
  {
   "cell_type": "code",
   "execution_count": 21,
   "metadata": {
    "colab": {
     "autoexec": {
      "startup": false,
      "wait_interval": 0
     },
     "base_uri": "https://localhost:8080/",
     "height": 108,
     "output_extras": [
      {
       "item_id": 1
      }
     ]
    },
    "colab_type": "code",
    "executionInfo": {
     "elapsed": 429,
     "status": "ok",
     "timestamp": 1521892637547,
     "user": {
      "displayName": "Matej Mikuš",
      "photoUrl": "//lh4.googleusercontent.com/-FmP53EUfl4Q/AAAAAAAAAAI/AAAAAAAAAM8/e9HPRr9qrg0/s50-c-k-no/photo.jpg",
      "userId": "101534130404630998601"
     },
     "user_tz": -60
    },
    "id": "8MkreOQVpvwB",
    "outputId": "1b59a8f0-d1af-43f2-a6e3-75b0488b7e0a"
   },
   "outputs": [
    {
     "data": {
      "text/plain": [
       "count     2800\n",
       "unique       3\n",
       "top          F\n",
       "freq      1830\n",
       "Name: sex, dtype: object"
      ]
     },
     "execution_count": 21,
     "metadata": {},
     "output_type": "execute_result"
    }
   ],
   "source": [
    "data['sex'].describe()"
   ]
  },
  {
   "cell_type": "code",
   "execution_count": 22,
   "metadata": {
    "colab": {
     "autoexec": {
      "startup": false,
      "wait_interval": 0
     },
     "base_uri": "https://localhost:8080/",
     "height": 90,
     "output_extras": [
      {
       "item_id": 1
      }
     ]
    },
    "colab_type": "code",
    "executionInfo": {
     "elapsed": 439,
     "status": "ok",
     "timestamp": 1521892638128,
     "user": {
      "displayName": "Matej Mikuš",
      "photoUrl": "//lh4.googleusercontent.com/-FmP53EUfl4Q/AAAAAAAAAAI/AAAAAAAAAM8/e9HPRr9qrg0/s50-c-k-no/photo.jpg",
      "userId": "101534130404630998601"
     },
     "user_tz": -60
    },
    "id": "rYPKC1Qzpz-E",
    "outputId": "84c02e7d-4785-43ef-a1c5-967c89877285"
   },
   "outputs": [
    {
     "name": "stdout",
     "output_type": "stream",
     "text": [
      "Number of null sex values:  110\n",
      "Number of non null sex values:  2800\n",
      "Number men values:  860\n",
      "Number women values:  1830\n"
     ]
    }
   ],
   "source": [
    "sex = data['sex']\n",
    "sexDf = pd.DataFrame(sex)\n",
    "sexNullCount = sexDf[sexDf['sex']=='?'].count()[0]\n",
    "sexNotNullCount = sex.notnull().sum()\n",
    "menCount = sexDf[sexDf['sex']=='M'].count()[0]\n",
    "womenCount = sexDf[sexDf['sex']=='F'].count()[0]\n",
    "print('Number of null sex values: ',sexNullCount)\n",
    "print('Number of non null sex values: ',sexNotNullCount)\n",
    "print('Number men values: ',menCount)\n",
    "print('Number women values: ',womenCount)"
   ]
  },
  {
   "cell_type": "code",
   "execution_count": null,
   "metadata": {
    "colab": {
     "autoexec": {
      "startup": false,
      "wait_interval": 0
     },
     "base_uri": "https://localhost:8080/",
     "height": 365,
     "output_extras": [
      {
       "item_id": 1
      },
      {
       "item_id": 2
      }
     ]
    },
    "colab_type": "code",
    "executionInfo": {
     "elapsed": 499,
     "status": "ok",
     "timestamp": 1521892638797,
     "user": {
      "displayName": "Matej Mikuš",
      "photoUrl": "//lh4.googleusercontent.com/-FmP53EUfl4Q/AAAAAAAAAAI/AAAAAAAAAM8/e9HPRr9qrg0/s50-c-k-no/photo.jpg",
      "userId": "101534130404630998601"
     },
     "user_tz": -60
    },
    "id": "GtH9gHdAqErH",
    "outputId": "f5c9dd42-32cc-45a2-c00a-5647b42b56b0"
   },
   "outputs": [],
   "source": [
    "sex.hist()"
   ]
  },
  {
   "cell_type": "code",
   "execution_count": null,
   "metadata": {
    "colab": {
     "autoexec": {
      "startup": false,
      "wait_interval": 0
     },
     "base_uri": "https://localhost:8080/",
     "height": 134,
     "output_extras": [
      {
       "item_id": 1
      }
     ]
    },
    "colab_type": "code",
    "executionInfo": {
     "elapsed": 445,
     "status": "error",
     "timestamp": 1521892639407,
     "user": {
      "displayName": "Matej Mikuš",
      "photoUrl": "//lh4.googleusercontent.com/-FmP53EUfl4Q/AAAAAAAAAAI/AAAAAAAAAM8/e9HPRr9qrg0/s50-c-k-no/photo.jpg",
      "userId": "101534130404630998601"
     },
     "user_tz": -60
    },
    "id": "HvwY-iACqTOU",
    "outputId": "374dd970-4eb3-4d3c-ba2d-b48a435811a1"
   },
   "outputs": [],
   "source": [
    "sex_age = data[['sex','age']]\n",
    "\n",
    "sex_age = sex_age[sex_age['age']!=sex_age['age'].max()]\n",
    "sex_age = sex_age[sex_age['sex']!='?']Tsex_age.groupby('sex').age.hist(bins = 50)"
   ]
  },
  {
   "cell_type": "markdown",
   "metadata": {
    "colab_type": "text",
    "id": "JON0aViSmFxT"
   },
   "source": [
    "# T-markre a tumor (T3, TT4, TSH, T4U, fnlwgt)"
   ]
  },
  {
   "cell_type": "markdown",
   "metadata": {
    "colab_type": "text",
    "id": "AXGOxFqX_xWy"
   },
   "source": [
    "Ako mozno vidiet z grafu nizsie, kazdy z markrov obsahuje outlieri. \n",
    "* pozor: vertikalna os je v logaritmickej skale"
   ]
  },
  {
   "cell_type": "code",
   "execution_count": null,
   "metadata": {
    "colab": {
     "autoexec": {
      "startup": false,
      "wait_interval": 0
     }
    },
    "colab_type": "code",
    "id": "OekQ2jfdAcwY"
   },
   "outputs": [],
   "source": [
    "marker_columns = ['TSH', 'T3', 'TT4', 'T4U', 'fnlwgt']"
   ]
  },
  {
   "cell_type": "code",
   "execution_count": null,
   "metadata": {
    "colab": {
     "autoexec": {
      "startup": false,
      "wait_interval": 0
     },
     "base_uri": "https://localhost:8080/",
     "height": 300,
     "output_extras": [
      {}
     ]
    },
    "colab_type": "code",
    "executionInfo": {
     "elapsed": 556,
     "status": "ok",
     "timestamp": 1521712439566,
     "user": {
      "displayName": "Peter Pápay",
      "photoUrl": "https://lh3.googleusercontent.com/a/default-user=s128",
      "userId": "110643467746344361663"
     },
     "user_tz": -60
    },
    "id": "RA_J3ujuA0jM",
    "outputId": "6f7f46fa-2018-4464-e241-2dc9e9ec19c7"
   },
   "outputs": [],
   "source": [
    "data[marker_columns].describe()"
   ]
  },
  {
   "cell_type": "code",
   "execution_count": null,
   "metadata": {
    "colab": {
     "autoexec": {
      "startup": false,
      "wait_interval": 0
     },
     "base_uri": "https://localhost:8080/",
     "height": 385,
     "output_extras": [
      {},
      {}
     ]
    },
    "colab_type": "code",
    "executionInfo": {
     "elapsed": 920,
     "status": "ok",
     "timestamp": 1521712440784,
     "user": {
      "displayName": "Peter Pápay",
      "photoUrl": "https://lh3.googleusercontent.com/a/default-user=s128",
      "userId": "110643467746344361663"
     },
     "user_tz": -60
    },
    "id": "QHH6myWN_DUI",
    "outputId": "c546025e-9806-41f3-e4dd-53334daf679b"
   },
   "outputs": [],
   "source": [
    "g = sb.boxplot(data=data[marker_columns].dropna())\n",
    "g.set_yscale('log')"
   ]
  },
  {
   "cell_type": "markdown",
   "metadata": {
    "colab_type": "text",
    "id": "sydquj55B6SO"
   },
   "source": [
    "Ako mozno vidiet z grafu, kazdy z markrov obsahuje outlieri.\n",
    "    pozor: vertikalna os je v logaritmickej skale\n",
    "\n"
   ]
  },
  {
   "cell_type": "code",
   "execution_count": null,
   "metadata": {
    "colab": {
     "autoexec": {
      "startup": false,
      "wait_interval": 0
     },
     "base_uri": "https://localhost:8080/",
     "height": 1119,
     "output_extras": [
      {},
      {}
     ]
    },
    "colab_type": "code",
    "executionInfo": {
     "elapsed": 8187,
     "status": "ok",
     "timestamp": 1521837362130,
     "user": {
      "displayName": "Matej Mikuš",
      "photoUrl": "//lh4.googleusercontent.com/-FmP53EUfl4Q/AAAAAAAAAAI/AAAAAAAAAM8/e9HPRr9qrg0/s50-c-k-no/photo.jpg",
      "userId": "101534130404630998601"
     },
     "user_tz": -60
    },
    "id": "h4_vmrF6zqWH",
    "outputId": "6c4d0f41-16c8-4758-a49c-6f29fe551a95"
   },
   "outputs": [],
   "source": [
    "# pairplot ofarbeny triedou class\n",
    "sb.pairplot(data[[\"T3\", \"TT4\",\"TSH\", \"T4U\",\"tumor\", \"class\", \"age\", \"fnlwgt\"]].dropna(), hue = 'class')"
   ]
  },
  {
   "cell_type": "code",
   "execution_count": null,
   "metadata": {
    "colab": {
     "autoexec": {
      "startup": false,
      "wait_interval": 0
     },
     "base_uri": "https://localhost:8080/",
     "height": 740,
     "output_extras": [
      {},
      {}
     ]
    },
    "colab_type": "code",
    "executionInfo": {
     "elapsed": 4120,
     "status": "ok",
     "timestamp": 1521712452494,
     "user": {
      "displayName": "Peter Pápay",
      "photoUrl": "https://lh3.googleusercontent.com/a/default-user=s128",
      "userId": "110643467746344361663"
     },
     "user_tz": -60
    },
    "id": "pDlq1SrEvEeg",
    "outputId": "d43634a4-316b-491c-a547-4527d8aaa1fd"
   },
   "outputs": [],
   "source": [
    "sb.pairplot(data[[\"class\", \"education-num\", \"capital-gain\", \"capital-loss\", \"hours-per-week\"]].dropna(), hue = 'class')"
   ]
  },
  {
   "cell_type": "code",
   "execution_count": null,
   "metadata": {
    "colab": {
     "autoexec": {
      "startup": false,
      "wait_interval": 0
     },
     "base_uri": "https://localhost:8080/",
     "height": 561,
     "output_extras": [
      {},
      {}
     ]
    },
    "colab_type": "code",
    "executionInfo": {
     "elapsed": 1725,
     "status": "ok",
     "timestamp": 1521823425970,
     "user": {
      "displayName": "Matej Mikuš",
      "photoUrl": "//lh4.googleusercontent.com/-FmP53EUfl4Q/AAAAAAAAAAI/AAAAAAAAAM8/e9HPRr9qrg0/s50-c-k-no/photo.jpg",
      "userId": "101534130404630998601"
     },
     "user_tz": -60
    },
    "id": "1f1iHjeTYREe",
    "outputId": "b2ffc87e-3102-440a-a378-8503e54d44fe"
   },
   "outputs": [],
   "source": [
    "# Korelacia numberickych atriburov\n",
    "fig, ax = plt.subplots(figsize=(10,8))\n",
    "sb.heatmap(data[numerical_columns_list].corr(), ax=ax, annot=True, fmt=\".3f\")"
   ]
  },
  {
   "cell_type": "code",
   "execution_count": null,
   "metadata": {
    "colab": {
     "autoexec": {
      "startup": false,
      "wait_interval": 0
     },
     "base_uri": "https://localhost:8080/",
     "height": 379,
     "output_extras": [
      {},
      {}
     ]
    },
    "colab_type": "code",
    "executionInfo": {
     "elapsed": 1101,
     "status": "ok",
     "timestamp": 1521826633552,
     "user": {
      "displayName": "Matej Mikuš",
      "photoUrl": "//lh4.googleusercontent.com/-FmP53EUfl4Q/AAAAAAAAAAI/AAAAAAAAAM8/e9HPRr9qrg0/s50-c-k-no/photo.jpg",
      "userId": "101534130404630998601"
     },
     "user_tz": -60
    },
    "id": "K1hRMGBvvvxy",
    "outputId": "8a6f1fad-78be-4a3a-e561-c85fbeee6304"
   },
   "outputs": [],
   "source": [
    "sb.regplot(x=\"T3\", y=\"TT4\", data=data)"
   ]
  },
  {
   "cell_type": "code",
   "execution_count": null,
   "metadata": {
    "colab": {
     "autoexec": {
      "startup": false,
      "wait_interval": 0
     },
     "base_uri": "https://localhost:8080/",
     "height": 379,
     "output_extras": [
      {},
      {}
     ]
    },
    "colab_type": "code",
    "executionInfo": {
     "elapsed": 1017,
     "status": "ok",
     "timestamp": 1521826649904,
     "user": {
      "displayName": "Matej Mikuš",
      "photoUrl": "//lh4.googleusercontent.com/-FmP53EUfl4Q/AAAAAAAAAAI/AAAAAAAAAM8/e9HPRr9qrg0/s50-c-k-no/photo.jpg",
      "userId": "101534130404630998601"
     },
     "user_tz": -60
    },
    "id": "LtMkXiYc77yg",
    "outputId": "d9ba5c2c-a8dd-4be8-ec9b-a61c91b9d631"
   },
   "outputs": [],
   "source": [
    "sb.regplot(x=\"T3\", y=\"TSH\", data=data)"
   ]
  },
  {
   "cell_type": "code",
   "execution_count": null,
   "metadata": {
    "colab": {
     "autoexec": {
      "startup": false,
      "wait_interval": 0
     },
     "base_uri": "https://localhost:8080/",
     "height": 379,
     "output_extras": [
      {},
      {}
     ]
    },
    "colab_type": "code",
    "executionInfo": {
     "elapsed": 990,
     "status": "ok",
     "timestamp": 1521838168012,
     "user": {
      "displayName": "Matej Mikuš",
      "photoUrl": "//lh4.googleusercontent.com/-FmP53EUfl4Q/AAAAAAAAAAI/AAAAAAAAAM8/e9HPRr9qrg0/s50-c-k-no/photo.jpg",
      "userId": "101534130404630998601"
     },
     "user_tz": -60
    },
    "id": "CaWFcsTC7_Q8",
    "outputId": "d5fa95ae-1c0e-46e9-a12b-b0cf4374485c"
   },
   "outputs": [],
   "source": [
    "sb.regplot(x=\"T3\", y=\"T4U\", data=data)\n",
    "#plt.scatter(data[\"T3\"], data[\"TT4\"])"
   ]
  },
  {
   "cell_type": "code",
   "execution_count": null,
   "metadata": {
    "colab": {
     "autoexec": {
      "startup": false,
      "wait_interval": 0
     },
     "base_uri": "https://localhost:8080/",
     "height": 379,
     "output_extras": [
      {},
      {}
     ]
    },
    "colab_type": "code",
    "executionInfo": {
     "elapsed": 1054,
     "status": "ok",
     "timestamp": 1521826845231,
     "user": {
      "displayName": "Matej Mikuš",
      "photoUrl": "//lh4.googleusercontent.com/-FmP53EUfl4Q/AAAAAAAAAAI/AAAAAAAAAM8/e9HPRr9qrg0/s50-c-k-no/photo.jpg",
      "userId": "101534130404630998601"
     },
     "user_tz": -60
    },
    "id": "Tx_I7lXX8q9C",
    "outputId": "cd11ec38-081c-48c5-8434-bd0ab985db36"
   },
   "outputs": [],
   "source": [
    "sb.regplot(x=\"TT4\", y=\"T4U\", data=data)"
   ]
  },
  {
   "cell_type": "code",
   "execution_count": null,
   "metadata": {
    "colab": {
     "autoexec": {
      "startup": false,
      "wait_interval": 0
     },
     "base_uri": "https://localhost:8080/",
     "height": 381,
     "output_extras": [
      {},
      {}
     ]
    },
    "colab_type": "code",
    "executionInfo": {
     "elapsed": 1025,
     "status": "ok",
     "timestamp": 1521826892412,
     "user": {
      "displayName": "Matej Mikuš",
      "photoUrl": "//lh4.googleusercontent.com/-FmP53EUfl4Q/AAAAAAAAAAI/AAAAAAAAAM8/e9HPRr9qrg0/s50-c-k-no/photo.jpg",
      "userId": "101534130404630998601"
     },
     "user_tz": -60
    },
    "id": "svjxu7AV80eb",
    "outputId": "5aec0074-4aab-4f13-b309-3c0fe32e7335"
   },
   "outputs": [],
   "source": [
    "sb.regplot(x=\"TT4\", y=\"TSH\", data=data)"
   ]
  },
  {
   "cell_type": "markdown",
   "metadata": {
    "colab_type": "text",
    "id": "c0vG7kS3YbQw"
   },
   "source": [
    "*Na* tomto grafe vidno korelacie medzi numerickymi premennymi. Nieje na nom vidno nic extra zaujimave. Niektore hodnoty spolu koreluju ale slabo. (TT4 a T3)"
   ]
  },
  {
   "cell_type": "markdown",
   "metadata": {
    "colab_type": "text",
    "id": "EYqGlZUchE8b"
   },
   "source": [
    "# Kategoricke atribúty: Relationship, Occupation, education, etc..."
   ]
  },
  {
   "cell_type": "code",
   "execution_count": null,
   "metadata": {
    "colab": {
     "autoexec": {
      "startup": false,
      "wait_interval": 0
     },
     "base_uri": "https://localhost:8080/",
     "height": 391,
     "output_extras": [
      {}
     ]
    },
    "colab_type": "code",
    "executionInfo": {
     "elapsed": 492,
     "status": "ok",
     "timestamp": 1521837640594,
     "user": {
      "displayName": "Matej Mikuš",
      "photoUrl": "//lh4.googleusercontent.com/-FmP53EUfl4Q/AAAAAAAAAAI/AAAAAAAAAM8/e9HPRr9qrg0/s50-c-k-no/photo.jpg",
      "userId": "101534130404630998601"
     },
     "user_tz": -60
    },
    "id": "TxtrJKVthEKE",
    "outputId": "34ef96ab-37a0-4ab8-fe44-8ca3443bf03f"
   },
   "outputs": [],
   "source": [
    "temp = data[string_columns_list]\n",
    "temp.head()"
   ]
  },
  {
   "cell_type": "code",
   "execution_count": null,
   "metadata": {
    "colab": {
     "autoexec": {
      "startup": false,
      "wait_interval": 0
     },
     "base_uri": "https://localhost:8080/",
     "height": 240,
     "output_extras": [
      {}
     ]
    },
    "colab_type": "code",
    "executionInfo": {
     "elapsed": 493,
     "status": "ok",
     "timestamp": 1521837644017,
     "user": {
      "displayName": "Matej Mikuš",
      "photoUrl": "//lh4.googleusercontent.com/-FmP53EUfl4Q/AAAAAAAAAAI/AAAAAAAAAM8/e9HPRr9qrg0/s50-c-k-no/photo.jpg",
      "userId": "101534130404630998601"
     },
     "user_tz": -60
    },
    "id": "XAI3OYTElzU8",
    "outputId": "076ed34b-442c-469e-f468-0f6ebc1c43a5"
   },
   "outputs": [],
   "source": [
    "temp.describe()"
   ]
  },
  {
   "cell_type": "code",
   "execution_count": null,
   "metadata": {
    "colab": {
     "autoexec": {
      "startup": false,
      "wait_interval": 0
     },
     "base_uri": "https://localhost:8080/",
     "height": 613,
     "output_extras": [
      {},
      {},
      {}
     ]
    },
    "colab_type": "code",
    "executionInfo": {
     "elapsed": 844,
     "status": "ok",
     "timestamp": 1521826115864,
     "user": {
      "displayName": "Matej Mikuš",
      "photoUrl": "//lh4.googleusercontent.com/-FmP53EUfl4Q/AAAAAAAAAAI/AAAAAAAAAM8/e9HPRr9qrg0/s50-c-k-no/photo.jpg",
      "userId": "101534130404630998601"
     },
     "user_tz": -60
    },
    "id": "Eg4saa_MlFuG",
    "outputId": "eedf2980-c3b5-4f4c-e373-33386d285a8f"
   },
   "outputs": [],
   "source": [
    "# Atribut workclass\n",
    "\n",
    "# Vyskyt hodnot\n",
    "print(data[['workclass']].apply(pd.Series.value_counts))\n",
    "data['workclass'].value_counts().plot(kind='bar')"
   ]
  },
  {
   "cell_type": "code",
   "execution_count": null,
   "metadata": {
    "colab": {
     "autoexec": {
      "startup": false,
      "wait_interval": 0
     },
     "base_uri": "https://localhost:8080/",
     "height": 713,
     "output_extras": [
      {},
      {},
      {}
     ]
    },
    "colab_type": "code",
    "executionInfo": {
     "elapsed": 790,
     "status": "ok",
     "timestamp": 1521826164808,
     "user": {
      "displayName": "Matej Mikuš",
      "photoUrl": "//lh4.googleusercontent.com/-FmP53EUfl4Q/AAAAAAAAAAI/AAAAAAAAAM8/e9HPRr9qrg0/s50-c-k-no/photo.jpg",
      "userId": "101534130404630998601"
     },
     "user_tz": -60
    },
    "id": "R4p_1wryrojk",
    "outputId": "db261f03-7feb-4b80-8179-1396ef59d2d1"
   },
   "outputs": [],
   "source": [
    "# Atribut occupation\n",
    "\n",
    "# Vyskyt hodnot\n",
    "print(data[['occupation']].apply(pd.Series.value_counts))\n",
    "data['occupation'].value_counts().plot(kind='bar')"
   ]
  },
  {
   "cell_type": "code",
   "execution_count": null,
   "metadata": {
    "colab": {
     "autoexec": {
      "startup": false,
      "wait_interval": 0
     },
     "base_uri": "https://localhost:8080/",
     "height": 728,
     "output_extras": [
      {},
      {},
      {}
     ]
    },
    "colab_type": "code",
    "executionInfo": {
     "elapsed": 665,
     "status": "ok",
     "timestamp": 1521826214535,
     "user": {
      "displayName": "Matej Mikuš",
      "photoUrl": "//lh4.googleusercontent.com/-FmP53EUfl4Q/AAAAAAAAAAI/AAAAAAAAAM8/e9HPRr9qrg0/s50-c-k-no/photo.jpg",
      "userId": "101534130404630998601"
     },
     "user_tz": -60
    },
    "id": "q7vvOeMoflO4",
    "outputId": "6010de19-62cd-4a32-b99b-d53c9e9db843"
   },
   "outputs": [],
   "source": [
    "# Atribut education\n",
    "\n",
    "# Vyskyt hodnot\n",
    "print(data[['education']].apply(pd.Series.value_counts))\n",
    "data['education'].value_counts().plot(kind='bar')"
   ]
  },
  {
   "cell_type": "code",
   "execution_count": null,
   "metadata": {
    "colab": {
     "autoexec": {
      "startup": false,
      "wait_interval": 0
     },
     "base_uri": "https://localhost:8080/",
     "height": 675,
     "output_extras": [
      {},
      {},
      {}
     ]
    },
    "colab_type": "code",
    "executionInfo": {
     "elapsed": 799,
     "status": "ok",
     "timestamp": 1521826253373,
     "user": {
      "displayName": "Matej Mikuš",
      "photoUrl": "//lh4.googleusercontent.com/-FmP53EUfl4Q/AAAAAAAAAAI/AAAAAAAAAM8/e9HPRr9qrg0/s50-c-k-no/photo.jpg",
      "userId": "101534130404630998601"
     },
     "user_tz": -60
    },
    "id": "mKzSrz9eP8Di",
    "outputId": "8bbcf06e-355b-4025-b8a3-a741d3df36cf"
   },
   "outputs": [],
   "source": [
    "# Atribut education-num\n",
    "\n",
    "# Vyskyt hodnot\n",
    "print(data[['education-num']].apply(pd.Series.value_counts))\n",
    "data['education-num'].value_counts().plot(kind='bar')"
   ]
  },
  {
   "cell_type": "markdown",
   "metadata": {
    "colab_type": "text",
    "id": "9J2JLkFQQDYA"
   },
   "source": [
    "education-num a education vyjadruju rovnaku informaciu. Duplicitny sltpec. Pocet hodnot sa zhoduje"
   ]
  },
  {
   "cell_type": "code",
   "execution_count": null,
   "metadata": {
    "colab": {
     "autoexec": {
      "startup": false,
      "wait_interval": 0
     },
     "base_uri": "https://localhost:8080/",
     "height": 606,
     "output_extras": [
      {},
      {},
      {}
     ]
    },
    "colab_type": "code",
    "executionInfo": {
     "elapsed": 681,
     "status": "ok",
     "timestamp": 1521826284136,
     "user": {
      "displayName": "Matej Mikuš",
      "photoUrl": "//lh4.googleusercontent.com/-FmP53EUfl4Q/AAAAAAAAAAI/AAAAAAAAAM8/e9HPRr9qrg0/s50-c-k-no/photo.jpg",
      "userId": "101534130404630998601"
     },
     "user_tz": -60
    },
    "id": "6cl8nlowgE1g",
    "outputId": "914f2992-98a4-423a-cab2-a3188c03cf67"
   },
   "outputs": [],
   "source": [
    "# Atribut marital-status\n",
    "\n",
    "# Vyskyt hodnot\n",
    "print(data[['marital-status']].apply(pd.Series.value_counts))\n",
    "data['marital-status'].value_counts().plot(kind='bar')"
   ]
  },
  {
   "cell_type": "code",
   "execution_count": null,
   "metadata": {
    "colab": {
     "autoexec": {
      "startup": false,
      "wait_interval": 0
     },
     "base_uri": "https://localhost:8080/",
     "height": 549,
     "output_extras": [
      {},
      {},
      {}
     ]
    },
    "colab_type": "code",
    "executionInfo": {
     "elapsed": 554,
     "status": "ok",
     "timestamp": 1521826333208,
     "user": {
      "displayName": "Matej Mikuš",
      "photoUrl": "//lh4.googleusercontent.com/-FmP53EUfl4Q/AAAAAAAAAAI/AAAAAAAAAM8/e9HPRr9qrg0/s50-c-k-no/photo.jpg",
      "userId": "101534130404630998601"
     },
     "user_tz": -60
    },
    "id": "42c6gGf4gQXY",
    "outputId": "49ac1e12-269a-4f4f-88de-017bd9154e4a"
   },
   "outputs": [],
   "source": [
    "\n",
    "# Atribut relationship\n",
    "\n",
    "# Vyskyt hodnot\n",
    "print(data[['relationship']].apply(pd.Series.value_counts))\n",
    "data['relationship'].value_counts().plot(kind='bar')"
   ]
  },
  {
   "cell_type": "code",
   "execution_count": null,
   "metadata": {
    "colab": {
     "autoexec": {
      "startup": false,
      "wait_interval": 0
     },
     "base_uri": "https://localhost:8080/",
     "height": 557,
     "output_extras": [
      {},
      {},
      {}
     ]
    },
    "colab_type": "code",
    "executionInfo": {
     "elapsed": 488,
     "status": "ok",
     "timestamp": 1521826357808,
     "user": {
      "displayName": "Matej Mikuš",
      "photoUrl": "//lh4.googleusercontent.com/-FmP53EUfl4Q/AAAAAAAAAAI/AAAAAAAAAM8/e9HPRr9qrg0/s50-c-k-no/photo.jpg",
      "userId": "101534130404630998601"
     },
     "user_tz": -60
    },
    "id": "cdeXqIdRslra",
    "outputId": "f4031cef-a7ec-4309-f436-a68f8f3e784a"
   },
   "outputs": [],
   "source": [
    "# Atribut race\n",
    "\n",
    "# Vyskyt hodnot\n",
    "print(data[['race']].apply(pd.Series.value_counts))\n",
    "data['race'].value_counts().plot(kind='bar')"
   ]
  },
  {
   "cell_type": "code",
   "execution_count": null,
   "metadata": {
    "colab": {
     "autoexec": {
      "startup": false,
      "wait_interval": 0
     },
     "base_uri": "https://localhost:8080/",
     "height": 487,
     "output_extras": [
      {},
      {},
      {}
     ]
    },
    "colab_type": "code",
    "executionInfo": {
     "elapsed": 714,
     "status": "ok",
     "timestamp": 1521826400946,
     "user": {
      "displayName": "Matej Mikuš",
      "photoUrl": "//lh4.googleusercontent.com/-FmP53EUfl4Q/AAAAAAAAAAI/AAAAAAAAAM8/e9HPRr9qrg0/s50-c-k-no/photo.jpg",
      "userId": "101534130404630998601"
     },
     "user_tz": -60
    },
    "id": "WUqhMN1fsuYm",
    "outputId": "80591824-0d20-4425-f3ac-c12829f2f628"
   },
   "outputs": [],
   "source": [
    "# Atribut referral source\n",
    "\n",
    "# Vyskyt hodnot\n",
    "print(data[['referral source']].apply(pd.Series.value_counts))\n",
    "data['referral source'].value_counts().plot(kind='bar')"
   ]
  },
  {
   "cell_type": "code",
   "execution_count": null,
   "metadata": {
    "colab": {
     "autoexec": {
      "startup": false,
      "wait_interval": 0
     },
     "base_uri": "https://localhost:8080/",
     "height": 434,
     "output_extras": [
      {},
      {}
     ]
    },
    "colab_type": "code",
    "executionInfo": {
     "elapsed": 1770,
     "status": "ok",
     "timestamp": 1521667940310,
     "user": {
      "displayName": "Peter Pápay",
      "photoUrl": "https://lh3.googleusercontent.com/a/default-user=s128",
      "userId": "110643467746344361663"
     },
     "user_tz": -60
    },
    "id": "y2Mu0xqQmOf-",
    "outputId": "fba94723-d06f-42ea-9cb8-45b82e189fc5"
   },
   "outputs": [],
   "source": [
    "temp = pd.crosstab(index=data['occupation'], columns=data[\"education\"], normalize='index')\n",
    "temp.index = data['occupation'].value_counts().index\n",
    "sb.heatmap(temp, annot=True, fmt=\".1f\")"
   ]
  },
  {
   "cell_type": "code",
   "execution_count": null,
   "metadata": {
    "colab": {
     "autoexec": {
      "startup": false,
      "wait_interval": 0
     },
     "base_uri": "https://localhost:8080/",
     "height": 300,
     "output_extras": [
      {}
     ]
    },
    "colab_type": "code",
    "executionInfo": {
     "elapsed": 540,
     "status": "ok",
     "timestamp": 1521736407266,
     "user": {
      "displayName": "Peter Pápay",
      "photoUrl": "https://lh3.googleusercontent.com/a/default-user=s128",
      "userId": "110643467746344361663"
     },
     "user_tz": -60
    },
    "id": "HZOeBVCcCyHG",
    "outputId": "14b71911-1286-44f9-dde9-1884d4dbcdb8"
   },
   "outputs": [],
   "source": [
    "data[['capital-gain', 'capital-loss', 'hours-per-week']].describe()"
   ]
  },
  {
   "cell_type": "code",
   "execution_count": null,
   "metadata": {
    "colab": {
     "autoexec": {
      "startup": false,
      "wait_interval": 0
     },
     "base_uri": "https://localhost:8080/",
     "height": 404,
     "output_extras": [
      {},
      {},
      {}
     ]
    },
    "colab_type": "code",
    "executionInfo": {
     "elapsed": 552,
     "status": "ok",
     "timestamp": 1521711483126,
     "user": {
      "displayName": "Peter Pápay",
      "photoUrl": "https://lh3.googleusercontent.com/a/default-user=s128",
      "userId": "110643467746344361663"
     },
     "user_tz": -60
    },
    "id": "t3H3Su7CDynS",
    "outputId": "c144117e-9688-4e06-90a1-1df3d599e2d7"
   },
   "outputs": [],
   "source": [
    "sb.boxplot(data=data[['capital-gain','capital-loss']].dropna())"
   ]
  },
  {
   "cell_type": "markdown",
   "metadata": {
    "colab_type": "text",
    "id": "wJ2dDhMJHFtQ"
   },
   "source": [
    "Cely IQR je v v intervale <0,0> a len zopar hodnot je vyplnenych, teda su vsetky outliers"
   ]
  },
  {
   "cell_type": "code",
   "execution_count": null,
   "metadata": {
    "colab": {
     "autoexec": {
      "startup": false,
      "wait_interval": 0
     },
     "base_uri": "https://localhost:8080/",
     "height": 404,
     "output_extras": [
      {},
      {},
      {}
     ]
    },
    "colab_type": "code",
    "executionInfo": {
     "elapsed": 492,
     "status": "ok",
     "timestamp": 1521711503360,
     "user": {
      "displayName": "Peter Pápay",
      "photoUrl": "https://lh3.googleusercontent.com/a/default-user=s128",
      "userId": "110643467746344361663"
     },
     "user_tz": -60
    },
    "id": "ulfuHMc0EpvG",
    "outputId": "5f9e48e7-af44-4454-8af5-7f6492fec5d6"
   },
   "outputs": [],
   "source": [
    "sb.boxplot(data=data[['hours-per-week']].dropna())"
   ]
  },
  {
   "cell_type": "markdown",
   "metadata": {
    "colab_type": "text",
    "id": "RQtjm3_kHODG"
   },
   "source": [
    "Zopar extremnych? hodnot ako pracovna doba 99h/tyzden."
   ]
  },
  {
   "cell_type": "markdown",
   "metadata": {
    "colab_type": "text",
    "id": "RfxufiAeJoCI"
   },
   "source": [
    "# Bool columns"
   ]
  },
  {
   "cell_type": "code",
   "execution_count": null,
   "metadata": {
    "colab": {
     "autoexec": {
      "startup": false,
      "wait_interval": 0
     }
    },
    "colab_type": "code",
    "id": "EuL__n6dJsNs"
   },
   "outputs": [],
   "source": [
    "bool_columns_list = ['query on thyroxine', 'on antithyroid medication', 'thyroid surgery', 'I131 treatment', 'tumor', 'hypopituitary', 'T3 measured', 'TT4 measured', 'FTI measured', 'TBG measured', 'T4U measured', 'TSH measured', 'goitre', 'lithium', 'on thyroxine', 'pregnant', 'psych', 'query hyperthyroid', 'query hypothyroid', 'sick']"
   ]
  },
  {
   "cell_type": "code",
   "execution_count": null,
   "metadata": {
    "colab": {
     "autoexec": {
      "startup": false,
      "wait_interval": 0
     },
     "base_uri": "https://localhost:8080/",
     "height": 1510,
     "output_extras": [
      {},
      {},
      {}
     ]
    },
    "colab_type": "code",
    "executionInfo": {
     "elapsed": 1428,
     "status": "ok",
     "timestamp": 1521837198978,
     "user": {
      "displayName": "Matej Mikuš",
      "photoUrl": "//lh4.googleusercontent.com/-FmP53EUfl4Q/AAAAAAAAAAI/AAAAAAAAAM8/e9HPRr9qrg0/s50-c-k-no/photo.jpg",
      "userId": "101534130404630998601"
     },
     "user_tz": -60
    },
    "id": "4vwl-GijJwQ0",
    "outputId": "5df6325b-0d0a-4da8-a412-d68010b86e8e"
   },
   "outputs": [],
   "source": [
    "value_counts = data[bool_columns_list].apply(pd.Series.value_counts).transpose()\n",
    "value_counts.plot(kind=\"bar\")\n",
    "value_counts.plot.bar(stacked=True)\n",
    "value_counts"
   ]
  },
  {
   "cell_type": "code",
   "execution_count": null,
   "metadata": {
    "colab": {
     "autoexec": {
      "startup": false,
      "wait_interval": 0
     },
     "base_uri": "https://localhost:8080/",
     "height": 402,
     "output_extras": [
      {},
      {},
      {}
     ]
    },
    "colab_type": "code",
    "executionInfo": {
     "elapsed": 949,
     "status": "ok",
     "timestamp": 1521837122700,
     "user": {
      "displayName": "Matej Mikuš",
      "photoUrl": "//lh4.googleusercontent.com/-FmP53EUfl4Q/AAAAAAAAAAI/AAAAAAAAAM8/e9HPRr9qrg0/s50-c-k-no/photo.jpg",
      "userId": "101534130404630998601"
     },
     "user_tz": -60
    },
    "id": "7rVjUhvQplO8",
    "outputId": "6b46e8cb-f7e5-4688-ce0b-34e3a32809dd"
   },
   "outputs": [],
   "source": [
    "sb.barplot(data=value_counts.transpose(), orient='h')"
   ]
  },
  {
   "cell_type": "markdown",
   "metadata": {
    "colab_type": "text",
    "id": "ljeFwIgALBK8"
   },
   "source": [
    "V tabulke vidno rozlozenie roznych t/f hodnot v bool sltpcoch. Niektore stlpce ako TBG measured su vsetky false. Niektore stlpce ako query hypothroid maju ? hodnoty."
   ]
  },
  {
   "cell_type": "markdown",
   "metadata": {
    "colab_type": "text",
    "id": "DjI6pq-LCulR"
   },
   "source": [
    "# Porovnanie markrov s atributom class"
   ]
  },
  {
   "cell_type": "code",
   "execution_count": null,
   "metadata": {
    "colab": {
     "autoexec": {
      "startup": false,
      "wait_interval": 0
     },
     "base_uri": "https://localhost:8080/",
     "height": 542,
     "output_extras": [
      {
       "item_id": 1
      },
      {
       "item_id": 2
      },
      {
       "item_id": 3
      }
     ]
    },
    "colab_type": "code",
    "executionInfo": {
     "elapsed": 873,
     "status": "ok",
     "timestamp": 1521894056420,
     "user": {
      "displayName": "Matej Mikuš",
      "photoUrl": "//lh4.googleusercontent.com/-FmP53EUfl4Q/AAAAAAAAAAI/AAAAAAAAAM8/e9HPRr9qrg0/s50-c-k-no/photo.jpg",
      "userId": "101534130404630998601"
     },
     "user_tz": -60
    },
    "id": "95KZdRV_-9Oq",
    "outputId": "bead9f84-fc84-46d6-cf2f-16ff9fd88dbb"
   },
   "outputs": [],
   "source": [
    "t3ctab = pd.crosstab(index=data[\"T3\"],  columns=[data[\"class\"]], margins=False)\n",
    "print(\"max pocetnost vyskytov s increased binding protein: \", t3ctab[\"increased binding protein\"].max(), end=', ')\n",
    "print(\"s hodnotou: \", t3ctab[\"increased binding protein\"].idxmax())\n",
    "print(\"min pocetnost vyskytov s increased binding protein: \", t3ctab[\"increased binding protein\"].min(), end=', ')\n",
    "print(\"s hodnotou: \", t3ctab[\"increased binding protein\"].idxmin())\n",
    "print()\n",
    "print(\"max pocetnost vyskytov decreased binding protein: \", t3ctab[\"decreased binding protein\"].max(), end=', ')\n",
    "print(\"s hodnotou: \", t3ctab[\"decreased binding protein\"].idxmax())\n",
    "print(\"min pocetnost vyskytov decreased binding protein: \", t3ctab[\"decreased binding protein\"].min(), end=', ')\n",
    "print(\"s hodnotou: \", t3ctab[\"decreased binding protein\"].idxmin())\n",
    "print()\n",
    "print(\"max pocetnost vyskytov negative: \", t3ctab[\"negative\"].max(), end=', ')\n",
    "print(\"s hodnotou: \", t3ctab[\"negative\"].idxmax())\n",
    "print(\"min pocetnost vyskytov negative: \", t3ctab[\"negative\"].min(), end=', ')\n",
    "print(\"s hodnotou: \", t3ctab[\"negative\"].idxmin())\n",
    "print()\n",
    "t3ctab.plot()"
   ]
  },
  {
   "cell_type": "code",
   "execution_count": null,
   "metadata": {
    "colab": {
     "autoexec": {
      "startup": false,
      "wait_interval": 0
     },
     "base_uri": "https://localhost:8080/",
     "height": 542,
     "output_extras": [
      {},
      {},
      {}
     ]
    },
    "colab_type": "code",
    "executionInfo": {
     "elapsed": 1074,
     "status": "ok",
     "timestamp": 1521835522844,
     "user": {
      "displayName": "Matej Mikuš",
      "photoUrl": "//lh4.googleusercontent.com/-FmP53EUfl4Q/AAAAAAAAAAI/AAAAAAAAAM8/e9HPRr9qrg0/s50-c-k-no/photo.jpg",
      "userId": "101534130404630998601"
     },
     "user_tz": -60
    },
    "id": "cKuVToYrAJYJ",
    "outputId": "dc5f66d7-7a00-4b07-8192-281e7650062a"
   },
   "outputs": [],
   "source": [
    "tt4ctab = pd.crosstab(index=data[\"TT4\"],  columns=[data[\"class\"]], margins=False)\n",
    "print(\"max pocetnost vyskytov s increased binding protein: \", tt4ctab[\"increased binding protein\"].max(), end=', ')\n",
    "print(\"s hodnotou: \", tt4ctab[\"increased binding protein\"].idxmax())\n",
    "print(\"min pocetnost vyskytov s increased binding protein: \", tt4ctab[\"increased binding protein\"].min(), end=', ')\n",
    "print(\"s hodnotou: \", tt4ctab[\"increased binding protein\"].idxmin())\n",
    "print()\n",
    "print(\"max pocetnost vyskytov decreased binding protein: \", tt4ctab[\"decreased binding protein\"].max(), end=', ')\n",
    "print(\"s hodnotou: \", tt4ctab[\"decreased binding protein\"].idxmax())\n",
    "print(\"min pocetnost vyskytov decreased binding protein: \", tt4ctab[\"decreased binding protein\"].min(), end=', ')\n",
    "print(\"s hodnotou: \", tt4ctab[\"decreased binding protein\"].idxmin())\n",
    "print()\n",
    "print(\"max pocetnost vyskytov negative: \", tt4ctab[\"negative\"].max(), end=', ')\n",
    "print(\"s hodnotou: \", tt4ctab[\"negative\"].idxmax())\n",
    "print(\"min pocetnost vyskytov negative: \", tt4ctab[\"negative\"].min(), end=', ')\n",
    "print(\"s hodnotou: \", tt4ctab[\"negative\"].idxmin())\n",
    "print()\n",
    "tt4ctab.plot()"
   ]
  },
  {
   "cell_type": "code",
   "execution_count": null,
   "metadata": {
    "colab": {
     "autoexec": {
      "startup": false,
      "wait_interval": 0
     },
     "base_uri": "https://localhost:8080/",
     "height": 542,
     "output_extras": [
      {},
      {},
      {}
     ]
    },
    "colab_type": "code",
    "executionInfo": {
     "elapsed": 753,
     "status": "ok",
     "timestamp": 1521835601371,
     "user": {
      "displayName": "Matej Mikuš",
      "photoUrl": "//lh4.googleusercontent.com/-FmP53EUfl4Q/AAAAAAAAAAI/AAAAAAAAAM8/e9HPRr9qrg0/s50-c-k-no/photo.jpg",
      "userId": "101534130404630998601"
     },
     "user_tz": -60
    },
    "id": "VxGBIrTAC29n",
    "outputId": "1564d332-4c35-42c0-e21a-816db47cffba"
   },
   "outputs": [],
   "source": [
    "t4uctab = pd.crosstab(index=data[\"T4U\"],  columns=[data[\"class\"]], margins=False)\n",
    "print(\"max pocetnost vyskytov s increased binding protein: \", t4uctab[\"increased binding protein\"].max(), end=', ')\n",
    "print(\"s hodnotou: \", t4uctab[\"increased binding protein\"].idxmax())\n",
    "print(\"min pocetnost vyskytov s increased binding protein: \", t4uctab[\"increased binding protein\"].min(), end=', ')\n",
    "print(\"s hodnotou: \", t4uctab[\"increased binding protein\"].idxmin())\n",
    "print()\n",
    "print(\"max pocetnost vyskytov decreased binding protein: \", t4uctab[\"decreased binding protein\"].max(), end=', ')\n",
    "print(\"s hodnotou: \", t4uctab[\"decreased binding protein\"].idxmax())\n",
    "print(\"min pocetnost vyskytov decreased binding protein: \", t4uctab[\"decreased binding protein\"].min(), end=', ')\n",
    "print(\"s hodnotou: \", t4uctab[\"decreased binding protein\"].idxmin())\n",
    "print()\n",
    "print(\"max pocetnost vyskytov negative: \", t4uctab[\"negative\"].max(), end=', ')\n",
    "print(\"s hodnotou: \", t4uctab[\"negative\"].idxmax())\n",
    "print(\"min pocetnost vyskytov negative: \", t4uctab[\"negative\"].min(), end=', ')\n",
    "print(\"s hodnotou: \", t4uctab[\"negative\"].idxmin())\n",
    "print()\n",
    "t4uctab.plot()"
   ]
  },
  {
   "cell_type": "code",
   "execution_count": null,
   "metadata": {
    "colab": {
     "autoexec": {
      "startup": false,
      "wait_interval": 0
     },
     "base_uri": "https://localhost:8080/",
     "height": 542,
     "output_extras": [
      {},
      {},
      {}
     ]
    },
    "colab_type": "code",
    "executionInfo": {
     "elapsed": 843,
     "status": "ok",
     "timestamp": 1521837002579,
     "user": {
      "displayName": "Matej Mikuš",
      "photoUrl": "//lh4.googleusercontent.com/-FmP53EUfl4Q/AAAAAAAAAAI/AAAAAAAAAM8/e9HPRr9qrg0/s50-c-k-no/photo.jpg",
      "userId": "101534130404630998601"
     },
     "user_tz": -60
    },
    "id": "jGtVdeGbC7P6",
    "outputId": "12c6c2ba-b116-4de7-e3e9-5865338ad0b3"
   },
   "outputs": [],
   "source": [
    "tshctab = pd.crosstab(index=data[\"TSH\"],  columns=[data[\"class\"]], margins=False)\n",
    "print(\"max pocetnost vyskytov s increased binding protein: \", tshctab[\"increased binding protein\"].max(), end=', ')\n",
    "print(\"s hodnotou: \", tshctab[\"increased binding protein\"].idxmax())\n",
    "print(\"min pocetnost vyskytov s increased binding protein: \", tshctab[\"increased binding protein\"].min(), end=', ')\n",
    "print(\"s hodnotou: \", tshctab[\"increased binding protein\"].idxmin())\n",
    "print()\n",
    "print(\"max pocetnost vyskytov decreased binding protein: \", tshctab[\"decreased binding protein\"].max(), end=', ')\n",
    "print(\"s hodnotou: \", tshctab[\"decreased binding protein\"].idxmax())\n",
    "print(\"min pocetnost vyskytov decreased binding protein: \", tshctab[\"decreased binding protein\"].min(), end=', ')\n",
    "print(\"s hodnotou: \", tshctab[\"decreased binding protein\"].idxmin())\n",
    "print()\n",
    "print(\"max pocetnost vyskytov negative: \", tshctab[\"negative\"].max(), end=', ')\n",
    "print(\"s hodnotou: \", tshctab[\"negative\"].idxmax())\n",
    "print(\"min pocetnost vyskytov negative: \", tshctab[\"negative\"].min(), end=', ')\n",
    "print(\"s hodnotou: \", tshctab[\"negative\"].idxmin())\n",
    "print()\n",
    "tshctab.plot()"
   ]
  },
  {
   "cell_type": "code",
   "execution_count": null,
   "metadata": {
    "colab": {
     "autoexec": {
      "startup": false,
      "wait_interval": 0
     },
     "base_uri": "https://localhost:8080/",
     "height": 462,
     "output_extras": [
      {},
      {}
     ]
    },
    "colab_type": "code",
    "executionInfo": {
     "elapsed": 736,
     "status": "ok",
     "timestamp": 1521850480817,
     "user": {
      "displayName": "Matej Mikuš",
      "photoUrl": "//lh4.googleusercontent.com/-FmP53EUfl4Q/AAAAAAAAAAI/AAAAAAAAAM8/e9HPRr9qrg0/s50-c-k-no/photo.jpg",
      "userId": "101534130404630998601"
     },
     "user_tz": -60
    },
    "id": "gIpxNNlHDFH2",
    "outputId": "474fee37-17f7-45a9-a815-cbfa064666b0"
   },
   "outputs": [],
   "source": [
    "pd.crosstab(index=data[\"race\"],  columns=[data[\"class\"]], normalize = \"index\").plot.bar()"
   ]
  },
  {
   "cell_type": "markdown",
   "metadata": {
    "colab_type": "text",
    "id": "9W15KhWmWXxc"
   },
   "source": [
    "Ako mozeme vidiet v grafe vyssie, trieda nezavisi od rasy"
   ]
  },
  {
   "cell_type": "code",
   "execution_count": null,
   "metadata": {
    "colab": {
     "autoexec": {
      "startup": false,
      "wait_interval": 0
     },
     "base_uri": "https://localhost:8080/",
     "height": 379,
     "output_extras": [
      {},
      {}
     ]
    },
    "colab_type": "code",
    "executionInfo": {
     "elapsed": 984,
     "status": "ok",
     "timestamp": 1521852934338,
     "user": {
      "displayName": "Matej Mikuš",
      "photoUrl": "//lh4.googleusercontent.com/-FmP53EUfl4Q/AAAAAAAAAAI/AAAAAAAAAM8/e9HPRr9qrg0/s50-c-k-no/photo.jpg",
      "userId": "101534130404630998601"
     },
     "user_tz": -60
    },
    "id": "xU4rZthzH49q",
    "outputId": "7fcda01a-d36a-46e2-ff19-15478b1e1a9e"
   },
   "outputs": [],
   "source": [
    "pd.crosstab(index=data[\"race\"],  columns=[data[\"T3\"]], normalize = \"index\").transpose().plot()"
   ]
  },
  {
   "cell_type": "markdown",
   "metadata": {
    "colab_type": "text",
    "id": "dBoMV9gA6C84"
   },
   "source": [
    "Marker T3 rastie priblizne rovnako pre vsetky rasy"
   ]
  },
  {
   "cell_type": "code",
   "execution_count": null,
   "metadata": {
    "colab": {
     "autoexec": {
      "startup": false,
      "wait_interval": 0
     },
     "base_uri": "https://localhost:8080/",
     "height": 379,
     "output_extras": [
      {
       "item_id": 1
      },
      {
       "item_id": 2
      }
     ]
    },
    "colab_type": "code",
    "executionInfo": {
     "elapsed": 908,
     "status": "ok",
     "timestamp": 1521892773569,
     "user": {
      "displayName": "Matej Mikuš",
      "photoUrl": "//lh4.googleusercontent.com/-FmP53EUfl4Q/AAAAAAAAAAI/AAAAAAAAAM8/e9HPRr9qrg0/s50-c-k-no/photo.jpg",
      "userId": "101534130404630998601"
     },
     "user_tz": -60
    },
    "id": "y1_yJbRwWez4",
    "outputId": "102ed8e8-e0c1-4945-d54a-220af9da7ef0"
   },
   "outputs": [],
   "source": [
    "pd.crosstab(index=data[\"race\"],  columns=[data[\"TT4\"]], normalize = \"index\").transpose().plot()"
   ]
  },
  {
   "cell_type": "markdown",
   "metadata": {
    "colab_type": "text",
    "id": "LQWiiw9v6Mz4"
   },
   "source": [
    "Atribut TT4 rastie priblizne rovnako pre vsetky rasy."
   ]
  },
  {
   "cell_type": "code",
   "execution_count": null,
   "metadata": {
    "colab": {
     "autoexec": {
      "startup": false,
      "wait_interval": 0
     },
     "base_uri": "https://localhost:8080/",
     "height": 379,
     "output_extras": [
      {
       "item_id": 1
      },
      {
       "item_id": 2
      }
     ]
    },
    "colab_type": "code",
    "executionInfo": {
     "elapsed": 856,
     "status": "ok",
     "timestamp": 1521892778862,
     "user": {
      "displayName": "Matej Mikuš",
      "photoUrl": "//lh4.googleusercontent.com/-FmP53EUfl4Q/AAAAAAAAAAI/AAAAAAAAAM8/e9HPRr9qrg0/s50-c-k-no/photo.jpg",
      "userId": "101534130404630998601"
     },
     "user_tz": -60
    },
    "id": "X6aqBMHraUsU",
    "outputId": "cf03781e-ff8a-489f-fbab-5daf608c0e01"
   },
   "outputs": [],
   "source": [
    "pd.crosstab(index=data[\"race\"],  columns=[data[\"T4U\"]], normalize = \"index\").transpose().plot()"
   ]
  },
  {
   "cell_type": "markdown",
   "metadata": {
    "colab_type": "text",
    "id": "mELmhInD6ZNW"
   },
   "source": [
    "Atribut T4U rastie priblizne rovnako pre vsetky rasy."
   ]
  },
  {
   "cell_type": "code",
   "execution_count": null,
   "metadata": {
    "colab": {
     "autoexec": {
      "startup": false,
      "wait_interval": 0
     },
     "base_uri": "https://localhost:8080/",
     "height": 379,
     "output_extras": [
      {
       "item_id": 1
      },
      {
       "item_id": 2
      }
     ]
    },
    "colab_type": "code",
    "executionInfo": {
     "elapsed": 714,
     "status": "ok",
     "timestamp": 1521892782373,
     "user": {
      "displayName": "Matej Mikuš",
      "photoUrl": "//lh4.googleusercontent.com/-FmP53EUfl4Q/AAAAAAAAAAI/AAAAAAAAAM8/e9HPRr9qrg0/s50-c-k-no/photo.jpg",
      "userId": "101534130404630998601"
     },
     "user_tz": -60
    },
    "id": "3nlAoTSqaVcj",
    "outputId": "6d8bba1b-120e-450d-a58a-a71f1860e99f"
   },
   "outputs": [],
   "source": [
    "pd.crosstab(index=data[\"race\"],  columns=[data[\"TSH\"]], normalize = \"index\").transpose().plot()"
   ]
  },
  {
   "cell_type": "markdown",
   "metadata": {
    "colab_type": "text",
    "id": "zNQnQPjO6d4O"
   },
   "source": [
    "Atribut TSH rastie priblizne rovnako pre vsetky rasy."
   ]
  },
  {
   "cell_type": "code",
   "execution_count": null,
   "metadata": {
    "colab": {
     "autoexec": {
      "startup": false,
      "wait_interval": 0
     },
     "base_uri": "https://localhost:8080/",
     "height": 379,
     "output_extras": [
      {
       "item_id": 1
      },
      {
       "item_id": 2
      }
     ]
    },
    "colab_type": "code",
    "executionInfo": {
     "elapsed": 897,
     "status": "ok",
     "timestamp": 1521893788947,
     "user": {
      "displayName": "Matej Mikuš",
      "photoUrl": "//lh4.googleusercontent.com/-FmP53EUfl4Q/AAAAAAAAAAI/AAAAAAAAAM8/e9HPRr9qrg0/s50-c-k-no/photo.jpg",
      "userId": "101534130404630998601"
     },
     "user_tz": -60
    },
    "id": "OOPIw7O57wBj",
    "outputId": "04f441c9-b8c6-4f91-f1ee-d5de2fde93dd"
   },
   "outputs": [],
   "source": [
    "pd.crosstab(index=data[\"pregnant\"],  columns=[data[\"TSH\"]], normalize = \"index\").transpose().plot()"
   ]
  },
  {
   "cell_type": "code",
   "execution_count": null,
   "metadata": {
    "colab": {
     "autoexec": {
      "startup": false,
      "wait_interval": 0
     },
     "base_uri": "https://localhost:8080/",
     "height": 379,
     "output_extras": [
      {
       "item_id": 1
      },
      {
       "item_id": 2
      }
     ]
    },
    "colab_type": "code",
    "executionInfo": {
     "elapsed": 690,
     "status": "ok",
     "timestamp": 1521894650467,
     "user": {
      "displayName": "Matej Mikuš",
      "photoUrl": "//lh4.googleusercontent.com/-FmP53EUfl4Q/AAAAAAAAAAI/AAAAAAAAAM8/e9HPRr9qrg0/s50-c-k-no/photo.jpg",
      "userId": "101534130404630998601"
     },
     "user_tz": -60
    },
    "id": "9fVt_whP79cx",
    "outputId": "6bd50d70-613a-4ef6-a988-3cc378e6d08d"
   },
   "outputs": [],
   "source": [
    "pd.crosstab(index=data[\"class\"],  columns=[data[\"capital-gain\"]], normalize = \"index\").transpose().plot()"
   ]
  },
  {
   "cell_type": "code",
   "execution_count": null,
   "metadata": {
    "colab": {
     "autoexec": {
      "startup": false,
      "wait_interval": 0
     },
     "base_uri": "https://localhost:8080/",
     "height": 369,
     "output_extras": [
      {
       "item_id": 1
      },
      {
       "item_id": 2
      }
     ]
    },
    "colab_type": "code",
    "executionInfo": {
     "elapsed": 526,
     "status": "ok",
     "timestamp": 1521894950741,
     "user": {
      "displayName": "Matej Mikuš",
      "photoUrl": "//lh4.googleusercontent.com/-FmP53EUfl4Q/AAAAAAAAAAI/AAAAAAAAAM8/e9HPRr9qrg0/s50-c-k-no/photo.jpg",
      "userId": "101534130404630998601"
     },
     "user_tz": -60
    },
    "id": "67WUA0cCAB6w",
    "outputId": "5e81aa5c-0b78-408d-c7c9-a55f4628d699"
   },
   "outputs": [],
   "source": [
    "pd.crosstab(index=data[\"sick\"],  columns=[data[\"class\"]], normalize = \"index\").transpose().plot()"
   ]
  },
  {
   "cell_type": "markdown",
   "metadata": {
    "colab_type": "text",
    "id": "nbhXSbYG8bjd"
   },
   "source": [
    "# Záver\n",
    "\n",
    "Vykonali sme prieskumnú analýzu nášho datasetu. Zistili sme, že v datasete sa nachádzajú chyby, ako nekonzistetné zápisy hodnôt pri kategorických atribútoch, ktoré bude treba zjednotiť. Taktiež sa v dátach nachádza mnoho prázdnych, hodnôt, ktoré bude treba nejaký spôsobom vyplniť. Pri numerických atribútoch to môžeme spraviť napríklad doplnením mediánom. Pri kategorických atribútoch buď necháme nedefinovanú hodnotu, alebo doplníme hodnotu modusom. Dáta sme vizualizovali pomocou grafov, v ktorých sme sa snažili zachytiť závislosť niektorých atribútov s atribútom class. V ďalšej časti projektu budeme tieto chyby opravovať a ďalej sa rozhodovať, ktoré atribútu budú ďalej využít pri strojovom učení. "
   ]
  },
  {
   "cell_type": "code",
   "execution_count": null,
   "metadata": {
    "colab": {
     "autoexec": {
      "startup": false,
      "wait_interval": 0
     }
    },
    "colab_type": "code",
    "id": "wIZYksef-LD8"
   },
   "outputs": [],
   "source": []
  }
 ],
 "metadata": {
  "colab": {
   "collapsed_sections": [],
   "default_view": {},
   "name": "IAU-mikus-papay.ipynb",
   "provenance": [],
   "toc_visible": true,
   "version": "0.3.2",
   "views": {}
  },
  "kernelspec": {
   "display_name": "Python 3",
   "language": "python",
   "name": "python3"
  },
  "language_info": {
   "codemirror_mode": {
    "name": "ipython",
    "version": 3
   },
   "file_extension": ".py",
   "mimetype": "text/x-python",
   "name": "python",
   "nbconvert_exporter": "python",
   "pygments_lexer": "ipython3",
   "version": "3.6.4"
  }
 },
 "nbformat": 4,
 "nbformat_minor": 2
}
